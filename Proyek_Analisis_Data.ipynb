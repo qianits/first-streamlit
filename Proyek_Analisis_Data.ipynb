{
  "cells": [
    {
      "cell_type": "markdown",
      "metadata": {
        "id": "H9wADwK78DCz"
      },
      "source": [
        "# Proyek Analisis Data: Bike Sharing Dataset\n",
        "- **Nama:** Qistina Muharrifa\n",
        "- **Email:** qmqistina@gmail.com\n",
        "- **ID Dicoding:** qistina"
      ]
    },
    {
      "cell_type": "markdown",
      "metadata": {
        "id": "eE0raob58DC0"
      },
      "source": [
        "## Menentukan Pertanyaan Bisnis"
      ]
    },
    {
      "cell_type": "markdown",
      "metadata": {
        "id": "GmQeQ5YF8DC0"
      },
      "source": [
        "- Bagaimana tren total penyewa sepeda (baik casual maupun registered) setiap bulannya pada tahun 2012 pada dataset day.csv?\n",
        "- Bagaimana hubungan antara total penyewa sepeda dengan suhu temperatur lingkungan pada dataset day.csv?\n",
        "- Musim apa yang paling banyak memiliki penyewa sepeda pada dataset day.csv?\n",
        "- Pada hari apakah masyarakat kebanyakan menyewa sepeda pada dataset day.csv?"
      ]
    },
    {
      "cell_type": "markdown",
      "metadata": {
        "id": "H-z4QGlO8DC1"
      },
      "source": [
        "## Import Semua Packages/Library yang Digunakan"
      ]
    },
    {
      "cell_type": "code",
      "execution_count": 1,
      "metadata": {
        "id": "FVYwaObI8DC1"
      },
      "outputs": [],
      "source": [
        "# Melakukan import libraries yang dibuuthkan\n",
        "import pandas as pd\n",
        "import numpy as np\n",
        "import matplotlib.pyplot as plt\n",
        "import seaborn as sns\n",
        "\n",
        "# Untuk keperluan warning agar tidak terlihat\n",
        "import warnings\n",
        "warnings.simplefilter(action='ignore', category=FutureWarning)"
      ]
    },
    {
      "cell_type": "markdown",
      "metadata": {
        "id": "h_Sh51Xy8DC1"
      },
      "source": [
        "## Data Wrangling"
      ]
    },
    {
      "cell_type": "markdown",
      "metadata": {
        "id": "sXU2GBYu8DC1"
      },
      "source": [
        "### Gathering Data"
      ]
    },
    {
      "cell_type": "markdown",
      "metadata": {},
      "source": [
        "Dataset yang digunakan adalah **Bike Sharing Dataset** yang bersumber dari Dicoding dan Kaggle. Dataset terdiri dari 2 buah file csv (day.csv dan hour.csv). Deskripsi data berada pada `Readme.txt`."
      ]
    },
    {
      "cell_type": "code",
      "execution_count": 2,
      "metadata": {
        "id": "zjCBk1BI8DC1"
      },
      "outputs": [
        {
          "data": {
            "text/html": [
              "<div>\n",
              "<style scoped>\n",
              "    .dataframe tbody tr th:only-of-type {\n",
              "        vertical-align: middle;\n",
              "    }\n",
              "\n",
              "    .dataframe tbody tr th {\n",
              "        vertical-align: top;\n",
              "    }\n",
              "\n",
              "    .dataframe thead th {\n",
              "        text-align: right;\n",
              "    }\n",
              "</style>\n",
              "<table border=\"1\" class=\"dataframe\">\n",
              "  <thead>\n",
              "    <tr style=\"text-align: right;\">\n",
              "      <th></th>\n",
              "      <th>instant</th>\n",
              "      <th>dteday</th>\n",
              "      <th>season</th>\n",
              "      <th>yr</th>\n",
              "      <th>mnth</th>\n",
              "      <th>holiday</th>\n",
              "      <th>weekday</th>\n",
              "      <th>workingday</th>\n",
              "      <th>weathersit</th>\n",
              "      <th>temp</th>\n",
              "      <th>atemp</th>\n",
              "      <th>hum</th>\n",
              "      <th>windspeed</th>\n",
              "      <th>casual</th>\n",
              "      <th>registered</th>\n",
              "      <th>cnt</th>\n",
              "    </tr>\n",
              "  </thead>\n",
              "  <tbody>\n",
              "    <tr>\n",
              "      <th>0</th>\n",
              "      <td>1</td>\n",
              "      <td>2011-01-01</td>\n",
              "      <td>1</td>\n",
              "      <td>0</td>\n",
              "      <td>1</td>\n",
              "      <td>0</td>\n",
              "      <td>6</td>\n",
              "      <td>0</td>\n",
              "      <td>2</td>\n",
              "      <td>0.344167</td>\n",
              "      <td>0.363625</td>\n",
              "      <td>0.805833</td>\n",
              "      <td>0.160446</td>\n",
              "      <td>331</td>\n",
              "      <td>654</td>\n",
              "      <td>985</td>\n",
              "    </tr>\n",
              "    <tr>\n",
              "      <th>1</th>\n",
              "      <td>2</td>\n",
              "      <td>2011-01-02</td>\n",
              "      <td>1</td>\n",
              "      <td>0</td>\n",
              "      <td>1</td>\n",
              "      <td>0</td>\n",
              "      <td>0</td>\n",
              "      <td>0</td>\n",
              "      <td>2</td>\n",
              "      <td>0.363478</td>\n",
              "      <td>0.353739</td>\n",
              "      <td>0.696087</td>\n",
              "      <td>0.248539</td>\n",
              "      <td>131</td>\n",
              "      <td>670</td>\n",
              "      <td>801</td>\n",
              "    </tr>\n",
              "    <tr>\n",
              "      <th>2</th>\n",
              "      <td>3</td>\n",
              "      <td>2011-01-03</td>\n",
              "      <td>1</td>\n",
              "      <td>0</td>\n",
              "      <td>1</td>\n",
              "      <td>0</td>\n",
              "      <td>1</td>\n",
              "      <td>1</td>\n",
              "      <td>1</td>\n",
              "      <td>0.196364</td>\n",
              "      <td>0.189405</td>\n",
              "      <td>0.437273</td>\n",
              "      <td>0.248309</td>\n",
              "      <td>120</td>\n",
              "      <td>1229</td>\n",
              "      <td>1349</td>\n",
              "    </tr>\n",
              "    <tr>\n",
              "      <th>3</th>\n",
              "      <td>4</td>\n",
              "      <td>2011-01-04</td>\n",
              "      <td>1</td>\n",
              "      <td>0</td>\n",
              "      <td>1</td>\n",
              "      <td>0</td>\n",
              "      <td>2</td>\n",
              "      <td>1</td>\n",
              "      <td>1</td>\n",
              "      <td>0.200000</td>\n",
              "      <td>0.212122</td>\n",
              "      <td>0.590435</td>\n",
              "      <td>0.160296</td>\n",
              "      <td>108</td>\n",
              "      <td>1454</td>\n",
              "      <td>1562</td>\n",
              "    </tr>\n",
              "    <tr>\n",
              "      <th>4</th>\n",
              "      <td>5</td>\n",
              "      <td>2011-01-05</td>\n",
              "      <td>1</td>\n",
              "      <td>0</td>\n",
              "      <td>1</td>\n",
              "      <td>0</td>\n",
              "      <td>3</td>\n",
              "      <td>1</td>\n",
              "      <td>1</td>\n",
              "      <td>0.226957</td>\n",
              "      <td>0.229270</td>\n",
              "      <td>0.436957</td>\n",
              "      <td>0.186900</td>\n",
              "      <td>82</td>\n",
              "      <td>1518</td>\n",
              "      <td>1600</td>\n",
              "    </tr>\n",
              "  </tbody>\n",
              "</table>\n",
              "</div>"
            ],
            "text/plain": [
              "   instant      dteday  season  yr  mnth  holiday  weekday  workingday  \\\n",
              "0        1  2011-01-01       1   0     1        0        6           0   \n",
              "1        2  2011-01-02       1   0     1        0        0           0   \n",
              "2        3  2011-01-03       1   0     1        0        1           1   \n",
              "3        4  2011-01-04       1   0     1        0        2           1   \n",
              "4        5  2011-01-05       1   0     1        0        3           1   \n",
              "\n",
              "   weathersit      temp     atemp       hum  windspeed  casual  registered  \\\n",
              "0           2  0.344167  0.363625  0.805833   0.160446     331         654   \n",
              "1           2  0.363478  0.353739  0.696087   0.248539     131         670   \n",
              "2           1  0.196364  0.189405  0.437273   0.248309     120        1229   \n",
              "3           1  0.200000  0.212122  0.590435   0.160296     108        1454   \n",
              "4           1  0.226957  0.229270  0.436957   0.186900      82        1518   \n",
              "\n",
              "    cnt  \n",
              "0   985  \n",
              "1   801  \n",
              "2  1349  \n",
              "3  1562  \n",
              "4  1600  "
            ]
          },
          "execution_count": 2,
          "metadata": {},
          "output_type": "execute_result"
        }
      ],
      "source": [
        "# Import data day.csv menggunakan Pandas\n",
        "day_df = pd.read_csv(\"data/day.csv\")\n",
        "day_df.head()"
      ]
    },
    {
      "cell_type": "code",
      "execution_count": 3,
      "metadata": {},
      "outputs": [
        {
          "data": {
            "text/html": [
              "<div>\n",
              "<style scoped>\n",
              "    .dataframe tbody tr th:only-of-type {\n",
              "        vertical-align: middle;\n",
              "    }\n",
              "\n",
              "    .dataframe tbody tr th {\n",
              "        vertical-align: top;\n",
              "    }\n",
              "\n",
              "    .dataframe thead th {\n",
              "        text-align: right;\n",
              "    }\n",
              "</style>\n",
              "<table border=\"1\" class=\"dataframe\">\n",
              "  <thead>\n",
              "    <tr style=\"text-align: right;\">\n",
              "      <th></th>\n",
              "      <th>instant</th>\n",
              "      <th>dteday</th>\n",
              "      <th>season</th>\n",
              "      <th>yr</th>\n",
              "      <th>mnth</th>\n",
              "      <th>hr</th>\n",
              "      <th>holiday</th>\n",
              "      <th>weekday</th>\n",
              "      <th>workingday</th>\n",
              "      <th>weathersit</th>\n",
              "      <th>temp</th>\n",
              "      <th>atemp</th>\n",
              "      <th>hum</th>\n",
              "      <th>windspeed</th>\n",
              "      <th>casual</th>\n",
              "      <th>registered</th>\n",
              "      <th>cnt</th>\n",
              "    </tr>\n",
              "  </thead>\n",
              "  <tbody>\n",
              "    <tr>\n",
              "      <th>0</th>\n",
              "      <td>1</td>\n",
              "      <td>2011-01-01</td>\n",
              "      <td>1</td>\n",
              "      <td>0</td>\n",
              "      <td>1</td>\n",
              "      <td>0</td>\n",
              "      <td>0</td>\n",
              "      <td>6</td>\n",
              "      <td>0</td>\n",
              "      <td>1</td>\n",
              "      <td>0.24</td>\n",
              "      <td>0.2879</td>\n",
              "      <td>0.81</td>\n",
              "      <td>0.0</td>\n",
              "      <td>3</td>\n",
              "      <td>13</td>\n",
              "      <td>16</td>\n",
              "    </tr>\n",
              "    <tr>\n",
              "      <th>1</th>\n",
              "      <td>2</td>\n",
              "      <td>2011-01-01</td>\n",
              "      <td>1</td>\n",
              "      <td>0</td>\n",
              "      <td>1</td>\n",
              "      <td>1</td>\n",
              "      <td>0</td>\n",
              "      <td>6</td>\n",
              "      <td>0</td>\n",
              "      <td>1</td>\n",
              "      <td>0.22</td>\n",
              "      <td>0.2727</td>\n",
              "      <td>0.80</td>\n",
              "      <td>0.0</td>\n",
              "      <td>8</td>\n",
              "      <td>32</td>\n",
              "      <td>40</td>\n",
              "    </tr>\n",
              "    <tr>\n",
              "      <th>2</th>\n",
              "      <td>3</td>\n",
              "      <td>2011-01-01</td>\n",
              "      <td>1</td>\n",
              "      <td>0</td>\n",
              "      <td>1</td>\n",
              "      <td>2</td>\n",
              "      <td>0</td>\n",
              "      <td>6</td>\n",
              "      <td>0</td>\n",
              "      <td>1</td>\n",
              "      <td>0.22</td>\n",
              "      <td>0.2727</td>\n",
              "      <td>0.80</td>\n",
              "      <td>0.0</td>\n",
              "      <td>5</td>\n",
              "      <td>27</td>\n",
              "      <td>32</td>\n",
              "    </tr>\n",
              "    <tr>\n",
              "      <th>3</th>\n",
              "      <td>4</td>\n",
              "      <td>2011-01-01</td>\n",
              "      <td>1</td>\n",
              "      <td>0</td>\n",
              "      <td>1</td>\n",
              "      <td>3</td>\n",
              "      <td>0</td>\n",
              "      <td>6</td>\n",
              "      <td>0</td>\n",
              "      <td>1</td>\n",
              "      <td>0.24</td>\n",
              "      <td>0.2879</td>\n",
              "      <td>0.75</td>\n",
              "      <td>0.0</td>\n",
              "      <td>3</td>\n",
              "      <td>10</td>\n",
              "      <td>13</td>\n",
              "    </tr>\n",
              "    <tr>\n",
              "      <th>4</th>\n",
              "      <td>5</td>\n",
              "      <td>2011-01-01</td>\n",
              "      <td>1</td>\n",
              "      <td>0</td>\n",
              "      <td>1</td>\n",
              "      <td>4</td>\n",
              "      <td>0</td>\n",
              "      <td>6</td>\n",
              "      <td>0</td>\n",
              "      <td>1</td>\n",
              "      <td>0.24</td>\n",
              "      <td>0.2879</td>\n",
              "      <td>0.75</td>\n",
              "      <td>0.0</td>\n",
              "      <td>0</td>\n",
              "      <td>1</td>\n",
              "      <td>1</td>\n",
              "    </tr>\n",
              "  </tbody>\n",
              "</table>\n",
              "</div>"
            ],
            "text/plain": [
              "   instant      dteday  season  yr  mnth  hr  holiday  weekday  workingday  \\\n",
              "0        1  2011-01-01       1   0     1   0        0        6           0   \n",
              "1        2  2011-01-01       1   0     1   1        0        6           0   \n",
              "2        3  2011-01-01       1   0     1   2        0        6           0   \n",
              "3        4  2011-01-01       1   0     1   3        0        6           0   \n",
              "4        5  2011-01-01       1   0     1   4        0        6           0   \n",
              "\n",
              "   weathersit  temp   atemp   hum  windspeed  casual  registered  cnt  \n",
              "0           1  0.24  0.2879  0.81        0.0       3          13   16  \n",
              "1           1  0.22  0.2727  0.80        0.0       8          32   40  \n",
              "2           1  0.22  0.2727  0.80        0.0       5          27   32  \n",
              "3           1  0.24  0.2879  0.75        0.0       3          10   13  \n",
              "4           1  0.24  0.2879  0.75        0.0       0           1    1  "
            ]
          },
          "execution_count": 3,
          "metadata": {},
          "output_type": "execute_result"
        }
      ],
      "source": [
        "# Import data hour.csv menggunakan Pandas\n",
        "hour_df = pd.read_csv(\"data/hour.csv\")\n",
        "hour_df.head()"
      ]
    },
    {
      "cell_type": "markdown",
      "metadata": {
        "id": "FHSiqaZp8DC1"
      },
      "source": [
        "### Assessing Data"
      ]
    },
    {
      "cell_type": "markdown",
      "metadata": {},
      "source": [
        "Selanjutnya mengidentifikasi masalah yang terdapat pada dataset tersebut. Pada pengerjaan ini saya melakukan pengecekan pada missing value, duplicated data, data type checking, inconsistent value, dan outlier."
      ]
    },
    {
      "cell_type": "markdown",
      "metadata": {},
      "source": [
        "#### Day"
      ]
    },
    {
      "cell_type": "markdown",
      "metadata": {},
      "source": [
        "Sebelum itu cek dulu berapa jumlah dari baris dan kolom pada data"
      ]
    },
    {
      "cell_type": "code",
      "execution_count": 4,
      "metadata": {},
      "outputs": [
        {
          "data": {
            "text/plain": [
              "(731, 16)"
            ]
          },
          "execution_count": 4,
          "metadata": {},
          "output_type": "execute_result"
        }
      ],
      "source": [
        "day_df.shape"
      ]
    },
    {
      "cell_type": "markdown",
      "metadata": {},
      "source": [
        "Artinya, memiliki 731 baris dan 16 kolom"
      ]
    },
    {
      "cell_type": "markdown",
      "metadata": {},
      "source": [
        "1. Missing Value\n"
      ]
    },
    {
      "cell_type": "code",
      "execution_count": 5,
      "metadata": {
        "id": "ax-3tEjc9Cj1"
      },
      "outputs": [
        {
          "data": {
            "text/plain": [
              "instant       0\n",
              "dteday        0\n",
              "season        0\n",
              "yr            0\n",
              "mnth          0\n",
              "holiday       0\n",
              "weekday       0\n",
              "workingday    0\n",
              "weathersit    0\n",
              "temp          0\n",
              "atemp         0\n",
              "hum           0\n",
              "windspeed     0\n",
              "casual        0\n",
              "registered    0\n",
              "cnt           0\n",
              "dtype: int64"
            ]
          },
          "execution_count": 5,
          "metadata": {},
          "output_type": "execute_result"
        }
      ],
      "source": [
        "day_df.isnull().sum()"
      ]
    },
    {
      "cell_type": "markdown",
      "metadata": {},
      "source": [
        "Tidak tedapat missing value pada day_df"
      ]
    },
    {
      "cell_type": "markdown",
      "metadata": {},
      "source": [
        "2. Duplicated Data"
      ]
    },
    {
      "cell_type": "code",
      "execution_count": 6,
      "metadata": {},
      "outputs": [
        {
          "data": {
            "text/plain": [
              "0"
            ]
          },
          "execution_count": 6,
          "metadata": {},
          "output_type": "execute_result"
        }
      ],
      "source": [
        "day_df.duplicated().sum()"
      ]
    },
    {
      "cell_type": "markdown",
      "metadata": {},
      "source": [
        "Tidak terdapat duplikasi data pada day_df"
      ]
    },
    {
      "cell_type": "markdown",
      "metadata": {},
      "source": [
        "3. Inconsistent Value"
      ]
    },
    {
      "cell_type": "code",
      "execution_count": 7,
      "metadata": {},
      "outputs": [
        {
          "data": {
            "text/html": [
              "<div>\n",
              "<style scoped>\n",
              "    .dataframe tbody tr th:only-of-type {\n",
              "        vertical-align: middle;\n",
              "    }\n",
              "\n",
              "    .dataframe tbody tr th {\n",
              "        vertical-align: top;\n",
              "    }\n",
              "\n",
              "    .dataframe thead th {\n",
              "        text-align: right;\n",
              "    }\n",
              "</style>\n",
              "<table border=\"1\" class=\"dataframe\">\n",
              "  <thead>\n",
              "    <tr style=\"text-align: right;\">\n",
              "      <th></th>\n",
              "      <th>column</th>\n",
              "      <th>total unique</th>\n",
              "      <th>unique</th>\n",
              "    </tr>\n",
              "  </thead>\n",
              "  <tbody>\n",
              "    <tr>\n",
              "      <th>0</th>\n",
              "      <td>instant</td>\n",
              "      <td>731</td>\n",
              "      <td>[1, 2, 3, 4, 5, 6, 7, 8, 9, 10, 11, 12, 13, 14...</td>\n",
              "    </tr>\n",
              "    <tr>\n",
              "      <th>1</th>\n",
              "      <td>dteday</td>\n",
              "      <td>731</td>\n",
              "      <td>[2011-01-01, 2011-01-02, 2011-01-03, 2011-01-0...</td>\n",
              "    </tr>\n",
              "    <tr>\n",
              "      <th>2</th>\n",
              "      <td>season</td>\n",
              "      <td>4</td>\n",
              "      <td>[1, 2, 3, 4]</td>\n",
              "    </tr>\n",
              "    <tr>\n",
              "      <th>3</th>\n",
              "      <td>yr</td>\n",
              "      <td>2</td>\n",
              "      <td>[0, 1]</td>\n",
              "    </tr>\n",
              "    <tr>\n",
              "      <th>4</th>\n",
              "      <td>mnth</td>\n",
              "      <td>12</td>\n",
              "      <td>[1, 2, 3, 4, 5, 6, 7, 8, 9, 10, 11, 12]</td>\n",
              "    </tr>\n",
              "    <tr>\n",
              "      <th>5</th>\n",
              "      <td>holiday</td>\n",
              "      <td>2</td>\n",
              "      <td>[0, 1]</td>\n",
              "    </tr>\n",
              "    <tr>\n",
              "      <th>6</th>\n",
              "      <td>weekday</td>\n",
              "      <td>7</td>\n",
              "      <td>[6, 0, 1, 2, 3, 4, 5]</td>\n",
              "    </tr>\n",
              "    <tr>\n",
              "      <th>7</th>\n",
              "      <td>workingday</td>\n",
              "      <td>2</td>\n",
              "      <td>[0, 1]</td>\n",
              "    </tr>\n",
              "    <tr>\n",
              "      <th>8</th>\n",
              "      <td>weathersit</td>\n",
              "      <td>3</td>\n",
              "      <td>[2, 1, 3]</td>\n",
              "    </tr>\n",
              "    <tr>\n",
              "      <th>9</th>\n",
              "      <td>temp</td>\n",
              "      <td>499</td>\n",
              "      <td>[0.344167, 0.363478, 0.196364, 0.2, 0.226957, ...</td>\n",
              "    </tr>\n",
              "    <tr>\n",
              "      <th>10</th>\n",
              "      <td>atemp</td>\n",
              "      <td>690</td>\n",
              "      <td>[0.363625, 0.353739, 0.189405, 0.212122, 0.229...</td>\n",
              "    </tr>\n",
              "    <tr>\n",
              "      <th>11</th>\n",
              "      <td>hum</td>\n",
              "      <td>595</td>\n",
              "      <td>[0.805833, 0.696087, 0.437273, 0.590435, 0.436...</td>\n",
              "    </tr>\n",
              "    <tr>\n",
              "      <th>12</th>\n",
              "      <td>windspeed</td>\n",
              "      <td>650</td>\n",
              "      <td>[0.160446, 0.248539, 0.248309, 0.160296, 0.186...</td>\n",
              "    </tr>\n",
              "    <tr>\n",
              "      <th>13</th>\n",
              "      <td>casual</td>\n",
              "      <td>606</td>\n",
              "      <td>[331, 131, 120, 108, 82, 88, 148, 68, 54, 41, ...</td>\n",
              "    </tr>\n",
              "    <tr>\n",
              "      <th>14</th>\n",
              "      <td>registered</td>\n",
              "      <td>679</td>\n",
              "      <td>[654, 670, 1229, 1454, 1518, 1362, 891, 768, 1...</td>\n",
              "    </tr>\n",
              "    <tr>\n",
              "      <th>15</th>\n",
              "      <td>cnt</td>\n",
              "      <td>696</td>\n",
              "      <td>[985, 801, 1349, 1562, 1600, 1606, 1510, 959, ...</td>\n",
              "    </tr>\n",
              "  </tbody>\n",
              "</table>\n",
              "</div>"
            ],
            "text/plain": [
              "        column  total unique  \\\n",
              "0      instant           731   \n",
              "1       dteday           731   \n",
              "2       season             4   \n",
              "3           yr             2   \n",
              "4         mnth            12   \n",
              "5      holiday             2   \n",
              "6      weekday             7   \n",
              "7   workingday             2   \n",
              "8   weathersit             3   \n",
              "9         temp           499   \n",
              "10       atemp           690   \n",
              "11         hum           595   \n",
              "12   windspeed           650   \n",
              "13      casual           606   \n",
              "14  registered           679   \n",
              "15         cnt           696   \n",
              "\n",
              "                                               unique  \n",
              "0   [1, 2, 3, 4, 5, 6, 7, 8, 9, 10, 11, 12, 13, 14...  \n",
              "1   [2011-01-01, 2011-01-02, 2011-01-03, 2011-01-0...  \n",
              "2                                        [1, 2, 3, 4]  \n",
              "3                                              [0, 1]  \n",
              "4             [1, 2, 3, 4, 5, 6, 7, 8, 9, 10, 11, 12]  \n",
              "5                                              [0, 1]  \n",
              "6                               [6, 0, 1, 2, 3, 4, 5]  \n",
              "7                                              [0, 1]  \n",
              "8                                           [2, 1, 3]  \n",
              "9   [0.344167, 0.363478, 0.196364, 0.2, 0.226957, ...  \n",
              "10  [0.363625, 0.353739, 0.189405, 0.212122, 0.229...  \n",
              "11  [0.805833, 0.696087, 0.437273, 0.590435, 0.436...  \n",
              "12  [0.160446, 0.248539, 0.248309, 0.160296, 0.186...  \n",
              "13  [331, 131, 120, 108, 82, 88, 148, 68, 54, 41, ...  \n",
              "14  [654, 670, 1229, 1454, 1518, 1362, 891, 768, 1...  \n",
              "15  [985, 801, 1349, 1562, 1600, 1606, 1510, 959, ...  "
            ]
          },
          "execution_count": 7,
          "metadata": {},
          "output_type": "execute_result"
        }
      ],
      "source": [
        "df_describe =[]\n",
        "\n",
        "# Check setiap barisnya\n",
        "for i in day_df.columns: \n",
        "    df_describe.append([\n",
        "        i,\n",
        "        day_df[i].nunique(),\n",
        "        day_df[i].unique()\n",
        "    ])\n",
        "\n",
        "DESC = pd.DataFrame(df_describe, columns=['column', 'total unique', 'unique'])\n",
        "DESC"
      ]
    },
    {
      "cell_type": "markdown",
      "metadata": {},
      "source": [
        "Terlihat bahwa value yang ada pada setiap kolom sudah sesuai dengan apa yang seharusnya dan deskripsi (misalnya weekday ada 7 (0-6), hour ada 24, year ada 2011 dan 2012 (0 dan 1), dan seterusnya)"
      ]
    },
    {
      "cell_type": "markdown",
      "metadata": {},
      "source": [
        "4. Data Type Checking"
      ]
    },
    {
      "cell_type": "code",
      "execution_count": 8,
      "metadata": {},
      "outputs": [
        {
          "name": "stdout",
          "output_type": "stream",
          "text": [
            "<class 'pandas.core.frame.DataFrame'>\n",
            "RangeIndex: 731 entries, 0 to 730\n",
            "Data columns (total 16 columns):\n",
            " #   Column      Non-Null Count  Dtype  \n",
            "---  ------      --------------  -----  \n",
            " 0   instant     731 non-null    int64  \n",
            " 1   dteday      731 non-null    object \n",
            " 2   season      731 non-null    int64  \n",
            " 3   yr          731 non-null    int64  \n",
            " 4   mnth        731 non-null    int64  \n",
            " 5   holiday     731 non-null    int64  \n",
            " 6   weekday     731 non-null    int64  \n",
            " 7   workingday  731 non-null    int64  \n",
            " 8   weathersit  731 non-null    int64  \n",
            " 9   temp        731 non-null    float64\n",
            " 10  atemp       731 non-null    float64\n",
            " 11  hum         731 non-null    float64\n",
            " 12  windspeed   731 non-null    float64\n",
            " 13  casual      731 non-null    int64  \n",
            " 14  registered  731 non-null    int64  \n",
            " 15  cnt         731 non-null    int64  \n",
            "dtypes: float64(4), int64(11), object(1)\n",
            "memory usage: 91.5+ KB\n"
          ]
        }
      ],
      "source": [
        "day_df.info()"
      ]
    },
    {
      "cell_type": "markdown",
      "metadata": {},
      "source": [
        "Terlihat bahwa 'dteday' memiliki data type object. Kita dapat mengubahnya menjadi datetime pada tahap Cleaning Data"
      ]
    },
    {
      "cell_type": "markdown",
      "metadata": {},
      "source": [
        "5. Outlier"
      ]
    },
    {
      "cell_type": "markdown",
      "metadata": {},
      "source": [
        "Metode dalam pengecekan oulier pada pengerjaan ini adalah menggunakan metode IQR."
      ]
    },
    {
      "cell_type": "code",
      "execution_count": 9,
      "metadata": {},
      "outputs": [],
      "source": [
        "def check_outlier(df):\n",
        "    Q1 = df.quantile(0.25)\n",
        "    Q3 = df.quantile(0.75)\n",
        "\n",
        "    # Menghitung RUB dan RLB.\n",
        "    IQR = Q3 - Q1\n",
        "    lower_limit = Q1 - 1.5*IQR\n",
        "    upper_limit = Q3 + 1.5*IQR\n",
        "\n",
        "    # Menampilkan banyaknya outlier pada atribut.\n",
        "    outliers = (df < lower_limit) | (df > upper_limit)\n",
        "    print (\"Outlier pada tiap atribut:\")\n",
        "    print(outliers.sum())\n",
        "\n",
        "    return outliers\n",
        "\n",
        "# Adaptasi dari Mata Kuliah KASDAD Fasilkom UI"
      ]
    },
    {
      "cell_type": "code",
      "execution_count": 10,
      "metadata": {},
      "outputs": [
        {
          "name": "stdout",
          "output_type": "stream",
          "text": [
            "Outlier pada tiap atribut:\n",
            "atemp          0\n",
            "casual        44\n",
            "cnt            0\n",
            "dteday         0\n",
            "holiday       21\n",
            "hum            2\n",
            "instant        0\n",
            "mnth           0\n",
            "registered     0\n",
            "season         0\n",
            "temp           0\n",
            "weathersit     0\n",
            "weekday        0\n",
            "windspeed     13\n",
            "workingday     0\n",
            "yr             0\n",
            "dtype: int64\n"
          ]
        }
      ],
      "source": [
        "outliers = dict(check_outlier(day_df).sum())"
      ]
    },
    {
      "cell_type": "markdown",
      "metadata": {},
      "source": [
        "Terlihat bahwa terdapat outlier pada kolom casual, holiday, dan windspeed.\n",
        "- Casual : Menandakan adanya lonjakan pengguna pada hari tertentu\n",
        "- Holiday : Karena hanya memiliki 2 unique value, hal ini tidak bisa dianggap sebagai outlier\n",
        "- Windspeed : Menandakan adanya kecepatan angin yang sangat berbeda pada hari tertentu"
      ]
    },
    {
      "cell_type": "markdown",
      "metadata": {},
      "source": [
        "Kita bisa melakukan pengecekan juga dengan menggunakan `describe()`"
      ]
    },
    {
      "cell_type": "code",
      "execution_count": 11,
      "metadata": {},
      "outputs": [
        {
          "data": {
            "text/html": [
              "<div>\n",
              "<style scoped>\n",
              "    .dataframe tbody tr th:only-of-type {\n",
              "        vertical-align: middle;\n",
              "    }\n",
              "\n",
              "    .dataframe tbody tr th {\n",
              "        vertical-align: top;\n",
              "    }\n",
              "\n",
              "    .dataframe thead th {\n",
              "        text-align: right;\n",
              "    }\n",
              "</style>\n",
              "<table border=\"1\" class=\"dataframe\">\n",
              "  <thead>\n",
              "    <tr style=\"text-align: right;\">\n",
              "      <th></th>\n",
              "      <th>count</th>\n",
              "      <th>mean</th>\n",
              "      <th>std</th>\n",
              "      <th>min</th>\n",
              "      <th>25%</th>\n",
              "      <th>50%</th>\n",
              "      <th>75%</th>\n",
              "      <th>max</th>\n",
              "    </tr>\n",
              "  </thead>\n",
              "  <tbody>\n",
              "    <tr>\n",
              "      <th>instant</th>\n",
              "      <td>731.0</td>\n",
              "      <td>366.000000</td>\n",
              "      <td>211.165812</td>\n",
              "      <td>1.000000</td>\n",
              "      <td>183.500000</td>\n",
              "      <td>366.000000</td>\n",
              "      <td>548.500000</td>\n",
              "      <td>731.000000</td>\n",
              "    </tr>\n",
              "    <tr>\n",
              "      <th>season</th>\n",
              "      <td>731.0</td>\n",
              "      <td>2.496580</td>\n",
              "      <td>1.110807</td>\n",
              "      <td>1.000000</td>\n",
              "      <td>2.000000</td>\n",
              "      <td>3.000000</td>\n",
              "      <td>3.000000</td>\n",
              "      <td>4.000000</td>\n",
              "    </tr>\n",
              "    <tr>\n",
              "      <th>yr</th>\n",
              "      <td>731.0</td>\n",
              "      <td>0.500684</td>\n",
              "      <td>0.500342</td>\n",
              "      <td>0.000000</td>\n",
              "      <td>0.000000</td>\n",
              "      <td>1.000000</td>\n",
              "      <td>1.000000</td>\n",
              "      <td>1.000000</td>\n",
              "    </tr>\n",
              "    <tr>\n",
              "      <th>mnth</th>\n",
              "      <td>731.0</td>\n",
              "      <td>6.519836</td>\n",
              "      <td>3.451913</td>\n",
              "      <td>1.000000</td>\n",
              "      <td>4.000000</td>\n",
              "      <td>7.000000</td>\n",
              "      <td>10.000000</td>\n",
              "      <td>12.000000</td>\n",
              "    </tr>\n",
              "    <tr>\n",
              "      <th>holiday</th>\n",
              "      <td>731.0</td>\n",
              "      <td>0.028728</td>\n",
              "      <td>0.167155</td>\n",
              "      <td>0.000000</td>\n",
              "      <td>0.000000</td>\n",
              "      <td>0.000000</td>\n",
              "      <td>0.000000</td>\n",
              "      <td>1.000000</td>\n",
              "    </tr>\n",
              "    <tr>\n",
              "      <th>weekday</th>\n",
              "      <td>731.0</td>\n",
              "      <td>2.997264</td>\n",
              "      <td>2.004787</td>\n",
              "      <td>0.000000</td>\n",
              "      <td>1.000000</td>\n",
              "      <td>3.000000</td>\n",
              "      <td>5.000000</td>\n",
              "      <td>6.000000</td>\n",
              "    </tr>\n",
              "    <tr>\n",
              "      <th>workingday</th>\n",
              "      <td>731.0</td>\n",
              "      <td>0.683995</td>\n",
              "      <td>0.465233</td>\n",
              "      <td>0.000000</td>\n",
              "      <td>0.000000</td>\n",
              "      <td>1.000000</td>\n",
              "      <td>1.000000</td>\n",
              "      <td>1.000000</td>\n",
              "    </tr>\n",
              "    <tr>\n",
              "      <th>weathersit</th>\n",
              "      <td>731.0</td>\n",
              "      <td>1.395349</td>\n",
              "      <td>0.544894</td>\n",
              "      <td>1.000000</td>\n",
              "      <td>1.000000</td>\n",
              "      <td>1.000000</td>\n",
              "      <td>2.000000</td>\n",
              "      <td>3.000000</td>\n",
              "    </tr>\n",
              "    <tr>\n",
              "      <th>temp</th>\n",
              "      <td>731.0</td>\n",
              "      <td>0.495385</td>\n",
              "      <td>0.183051</td>\n",
              "      <td>0.059130</td>\n",
              "      <td>0.337083</td>\n",
              "      <td>0.498333</td>\n",
              "      <td>0.655417</td>\n",
              "      <td>0.861667</td>\n",
              "    </tr>\n",
              "    <tr>\n",
              "      <th>atemp</th>\n",
              "      <td>731.0</td>\n",
              "      <td>0.474354</td>\n",
              "      <td>0.162961</td>\n",
              "      <td>0.079070</td>\n",
              "      <td>0.337842</td>\n",
              "      <td>0.486733</td>\n",
              "      <td>0.608602</td>\n",
              "      <td>0.840896</td>\n",
              "    </tr>\n",
              "    <tr>\n",
              "      <th>hum</th>\n",
              "      <td>731.0</td>\n",
              "      <td>0.627894</td>\n",
              "      <td>0.142429</td>\n",
              "      <td>0.000000</td>\n",
              "      <td>0.520000</td>\n",
              "      <td>0.626667</td>\n",
              "      <td>0.730209</td>\n",
              "      <td>0.972500</td>\n",
              "    </tr>\n",
              "    <tr>\n",
              "      <th>windspeed</th>\n",
              "      <td>731.0</td>\n",
              "      <td>0.190486</td>\n",
              "      <td>0.077498</td>\n",
              "      <td>0.022392</td>\n",
              "      <td>0.134950</td>\n",
              "      <td>0.180975</td>\n",
              "      <td>0.233214</td>\n",
              "      <td>0.507463</td>\n",
              "    </tr>\n",
              "    <tr>\n",
              "      <th>casual</th>\n",
              "      <td>731.0</td>\n",
              "      <td>848.176471</td>\n",
              "      <td>686.622488</td>\n",
              "      <td>2.000000</td>\n",
              "      <td>315.500000</td>\n",
              "      <td>713.000000</td>\n",
              "      <td>1096.000000</td>\n",
              "      <td>3410.000000</td>\n",
              "    </tr>\n",
              "    <tr>\n",
              "      <th>registered</th>\n",
              "      <td>731.0</td>\n",
              "      <td>3656.172367</td>\n",
              "      <td>1560.256377</td>\n",
              "      <td>20.000000</td>\n",
              "      <td>2497.000000</td>\n",
              "      <td>3662.000000</td>\n",
              "      <td>4776.500000</td>\n",
              "      <td>6946.000000</td>\n",
              "    </tr>\n",
              "    <tr>\n",
              "      <th>cnt</th>\n",
              "      <td>731.0</td>\n",
              "      <td>4504.348837</td>\n",
              "      <td>1937.211452</td>\n",
              "      <td>22.000000</td>\n",
              "      <td>3152.000000</td>\n",
              "      <td>4548.000000</td>\n",
              "      <td>5956.000000</td>\n",
              "      <td>8714.000000</td>\n",
              "    </tr>\n",
              "  </tbody>\n",
              "</table>\n",
              "</div>"
            ],
            "text/plain": [
              "            count         mean          std        min          25%  \\\n",
              "instant     731.0   366.000000   211.165812   1.000000   183.500000   \n",
              "season      731.0     2.496580     1.110807   1.000000     2.000000   \n",
              "yr          731.0     0.500684     0.500342   0.000000     0.000000   \n",
              "mnth        731.0     6.519836     3.451913   1.000000     4.000000   \n",
              "holiday     731.0     0.028728     0.167155   0.000000     0.000000   \n",
              "weekday     731.0     2.997264     2.004787   0.000000     1.000000   \n",
              "workingday  731.0     0.683995     0.465233   0.000000     0.000000   \n",
              "weathersit  731.0     1.395349     0.544894   1.000000     1.000000   \n",
              "temp        731.0     0.495385     0.183051   0.059130     0.337083   \n",
              "atemp       731.0     0.474354     0.162961   0.079070     0.337842   \n",
              "hum         731.0     0.627894     0.142429   0.000000     0.520000   \n",
              "windspeed   731.0     0.190486     0.077498   0.022392     0.134950   \n",
              "casual      731.0   848.176471   686.622488   2.000000   315.500000   \n",
              "registered  731.0  3656.172367  1560.256377  20.000000  2497.000000   \n",
              "cnt         731.0  4504.348837  1937.211452  22.000000  3152.000000   \n",
              "\n",
              "                    50%          75%          max  \n",
              "instant      366.000000   548.500000   731.000000  \n",
              "season         3.000000     3.000000     4.000000  \n",
              "yr             1.000000     1.000000     1.000000  \n",
              "mnth           7.000000    10.000000    12.000000  \n",
              "holiday        0.000000     0.000000     1.000000  \n",
              "weekday        3.000000     5.000000     6.000000  \n",
              "workingday     1.000000     1.000000     1.000000  \n",
              "weathersit     1.000000     2.000000     3.000000  \n",
              "temp           0.498333     0.655417     0.861667  \n",
              "atemp          0.486733     0.608602     0.840896  \n",
              "hum            0.626667     0.730209     0.972500  \n",
              "windspeed      0.180975     0.233214     0.507463  \n",
              "casual       713.000000  1096.000000  3410.000000  \n",
              "registered  3662.000000  4776.500000  6946.000000  \n",
              "cnt         4548.000000  5956.000000  8714.000000  "
            ]
          },
          "execution_count": 11,
          "metadata": {},
          "output_type": "execute_result"
        }
      ],
      "source": [
        "day_df.describe().T"
      ]
    },
    {
      "cell_type": "markdown",
      "metadata": {},
      "source": [
        "Terlihat aman pada dataset ini."
      ]
    },
    {
      "cell_type": "markdown",
      "metadata": {},
      "source": [
        "### Hour"
      ]
    },
    {
      "cell_type": "markdown",
      "metadata": {},
      "source": [
        "Sebelum itu cek dulu berapa jumlah dari baris dan kolom pada data"
      ]
    },
    {
      "cell_type": "code",
      "execution_count": 12,
      "metadata": {},
      "outputs": [
        {
          "data": {
            "text/plain": [
              "(17379, 17)"
            ]
          },
          "execution_count": 12,
          "metadata": {},
          "output_type": "execute_result"
        }
      ],
      "source": [
        "hour_df.shape"
      ]
    },
    {
      "cell_type": "markdown",
      "metadata": {},
      "source": [
        "Artinya, memiliki 17379 baris dan 17 kolom"
      ]
    },
    {
      "cell_type": "markdown",
      "metadata": {},
      "source": [
        "1. Missing Value"
      ]
    },
    {
      "cell_type": "code",
      "execution_count": 13,
      "metadata": {},
      "outputs": [
        {
          "data": {
            "text/plain": [
              "instant       0\n",
              "dteday        0\n",
              "season        0\n",
              "yr            0\n",
              "mnth          0\n",
              "hr            0\n",
              "holiday       0\n",
              "weekday       0\n",
              "workingday    0\n",
              "weathersit    0\n",
              "temp          0\n",
              "atemp         0\n",
              "hum           0\n",
              "windspeed     0\n",
              "casual        0\n",
              "registered    0\n",
              "cnt           0\n",
              "dtype: int64"
            ]
          },
          "execution_count": 13,
          "metadata": {},
          "output_type": "execute_result"
        }
      ],
      "source": [
        "hour_df.isnull().sum()"
      ]
    },
    {
      "cell_type": "markdown",
      "metadata": {},
      "source": [
        "Tidak tedapat missing value pada hour_df"
      ]
    },
    {
      "cell_type": "markdown",
      "metadata": {},
      "source": [
        "2. Duplicated Data"
      ]
    },
    {
      "cell_type": "code",
      "execution_count": 14,
      "metadata": {},
      "outputs": [
        {
          "data": {
            "text/plain": [
              "0"
            ]
          },
          "execution_count": 14,
          "metadata": {},
          "output_type": "execute_result"
        }
      ],
      "source": [
        "hour_df.duplicated().sum()"
      ]
    },
    {
      "cell_type": "markdown",
      "metadata": {},
      "source": [
        "Tidak terdapat duplikasi data pada hour_df"
      ]
    },
    {
      "cell_type": "markdown",
      "metadata": {},
      "source": [
        "3. Inconsistent Value"
      ]
    },
    {
      "cell_type": "code",
      "execution_count": 15,
      "metadata": {},
      "outputs": [
        {
          "data": {
            "text/html": [
              "<div>\n",
              "<style scoped>\n",
              "    .dataframe tbody tr th:only-of-type {\n",
              "        vertical-align: middle;\n",
              "    }\n",
              "\n",
              "    .dataframe tbody tr th {\n",
              "        vertical-align: top;\n",
              "    }\n",
              "\n",
              "    .dataframe thead th {\n",
              "        text-align: right;\n",
              "    }\n",
              "</style>\n",
              "<table border=\"1\" class=\"dataframe\">\n",
              "  <thead>\n",
              "    <tr style=\"text-align: right;\">\n",
              "      <th></th>\n",
              "      <th>column</th>\n",
              "      <th>total unique</th>\n",
              "      <th>unique</th>\n",
              "    </tr>\n",
              "  </thead>\n",
              "  <tbody>\n",
              "    <tr>\n",
              "      <th>0</th>\n",
              "      <td>instant</td>\n",
              "      <td>17379</td>\n",
              "      <td>[1, 2, 3, 4, 5, 6, 7, 8, 9, 10, 11, 12, 13, 14...</td>\n",
              "    </tr>\n",
              "    <tr>\n",
              "      <th>1</th>\n",
              "      <td>dteday</td>\n",
              "      <td>731</td>\n",
              "      <td>[2011-01-01, 2011-01-02, 2011-01-03, 2011-01-0...</td>\n",
              "    </tr>\n",
              "    <tr>\n",
              "      <th>2</th>\n",
              "      <td>season</td>\n",
              "      <td>4</td>\n",
              "      <td>[1, 2, 3, 4]</td>\n",
              "    </tr>\n",
              "    <tr>\n",
              "      <th>3</th>\n",
              "      <td>yr</td>\n",
              "      <td>2</td>\n",
              "      <td>[0, 1]</td>\n",
              "    </tr>\n",
              "    <tr>\n",
              "      <th>4</th>\n",
              "      <td>mnth</td>\n",
              "      <td>12</td>\n",
              "      <td>[1, 2, 3, 4, 5, 6, 7, 8, 9, 10, 11, 12]</td>\n",
              "    </tr>\n",
              "    <tr>\n",
              "      <th>5</th>\n",
              "      <td>hr</td>\n",
              "      <td>24</td>\n",
              "      <td>[0, 1, 2, 3, 4, 5, 6, 7, 8, 9, 10, 11, 12, 13,...</td>\n",
              "    </tr>\n",
              "    <tr>\n",
              "      <th>6</th>\n",
              "      <td>holiday</td>\n",
              "      <td>2</td>\n",
              "      <td>[0, 1]</td>\n",
              "    </tr>\n",
              "    <tr>\n",
              "      <th>7</th>\n",
              "      <td>weekday</td>\n",
              "      <td>7</td>\n",
              "      <td>[6, 0, 1, 2, 3, 4, 5]</td>\n",
              "    </tr>\n",
              "    <tr>\n",
              "      <th>8</th>\n",
              "      <td>workingday</td>\n",
              "      <td>2</td>\n",
              "      <td>[0, 1]</td>\n",
              "    </tr>\n",
              "    <tr>\n",
              "      <th>9</th>\n",
              "      <td>weathersit</td>\n",
              "      <td>4</td>\n",
              "      <td>[1, 2, 3, 4]</td>\n",
              "    </tr>\n",
              "    <tr>\n",
              "      <th>10</th>\n",
              "      <td>temp</td>\n",
              "      <td>50</td>\n",
              "      <td>[0.24, 0.22, 0.2, 0.32, 0.38, 0.36, 0.42, 0.46...</td>\n",
              "    </tr>\n",
              "    <tr>\n",
              "      <th>11</th>\n",
              "      <td>atemp</td>\n",
              "      <td>65</td>\n",
              "      <td>[0.2879, 0.2727, 0.2576, 0.3485, 0.3939, 0.333...</td>\n",
              "    </tr>\n",
              "    <tr>\n",
              "      <th>12</th>\n",
              "      <td>hum</td>\n",
              "      <td>89</td>\n",
              "      <td>[0.81, 0.8, 0.75, 0.86, 0.76, 0.77, 0.72, 0.82...</td>\n",
              "    </tr>\n",
              "    <tr>\n",
              "      <th>13</th>\n",
              "      <td>windspeed</td>\n",
              "      <td>30</td>\n",
              "      <td>[0.0, 0.0896, 0.2537, 0.2836, 0.2985, 0.194, 0...</td>\n",
              "    </tr>\n",
              "    <tr>\n",
              "      <th>14</th>\n",
              "      <td>casual</td>\n",
              "      <td>322</td>\n",
              "      <td>[3, 8, 5, 0, 2, 1, 12, 26, 29, 47, 35, 40, 41,...</td>\n",
              "    </tr>\n",
              "    <tr>\n",
              "      <th>15</th>\n",
              "      <td>registered</td>\n",
              "      <td>776</td>\n",
              "      <td>[13, 32, 27, 10, 1, 0, 2, 7, 6, 24, 30, 55, 47...</td>\n",
              "    </tr>\n",
              "    <tr>\n",
              "      <th>16</th>\n",
              "      <td>cnt</td>\n",
              "      <td>869</td>\n",
              "      <td>[16, 40, 32, 13, 1, 2, 3, 8, 14, 36, 56, 84, 9...</td>\n",
              "    </tr>\n",
              "  </tbody>\n",
              "</table>\n",
              "</div>"
            ],
            "text/plain": [
              "        column  total unique  \\\n",
              "0      instant         17379   \n",
              "1       dteday           731   \n",
              "2       season             4   \n",
              "3           yr             2   \n",
              "4         mnth            12   \n",
              "5           hr            24   \n",
              "6      holiday             2   \n",
              "7      weekday             7   \n",
              "8   workingday             2   \n",
              "9   weathersit             4   \n",
              "10        temp            50   \n",
              "11       atemp            65   \n",
              "12         hum            89   \n",
              "13   windspeed            30   \n",
              "14      casual           322   \n",
              "15  registered           776   \n",
              "16         cnt           869   \n",
              "\n",
              "                                               unique  \n",
              "0   [1, 2, 3, 4, 5, 6, 7, 8, 9, 10, 11, 12, 13, 14...  \n",
              "1   [2011-01-01, 2011-01-02, 2011-01-03, 2011-01-0...  \n",
              "2                                        [1, 2, 3, 4]  \n",
              "3                                              [0, 1]  \n",
              "4             [1, 2, 3, 4, 5, 6, 7, 8, 9, 10, 11, 12]  \n",
              "5   [0, 1, 2, 3, 4, 5, 6, 7, 8, 9, 10, 11, 12, 13,...  \n",
              "6                                              [0, 1]  \n",
              "7                               [6, 0, 1, 2, 3, 4, 5]  \n",
              "8                                              [0, 1]  \n",
              "9                                        [1, 2, 3, 4]  \n",
              "10  [0.24, 0.22, 0.2, 0.32, 0.38, 0.36, 0.42, 0.46...  \n",
              "11  [0.2879, 0.2727, 0.2576, 0.3485, 0.3939, 0.333...  \n",
              "12  [0.81, 0.8, 0.75, 0.86, 0.76, 0.77, 0.72, 0.82...  \n",
              "13  [0.0, 0.0896, 0.2537, 0.2836, 0.2985, 0.194, 0...  \n",
              "14  [3, 8, 5, 0, 2, 1, 12, 26, 29, 47, 35, 40, 41,...  \n",
              "15  [13, 32, 27, 10, 1, 0, 2, 7, 6, 24, 30, 55, 47...  \n",
              "16  [16, 40, 32, 13, 1, 2, 3, 8, 14, 36, 56, 84, 9...  "
            ]
          },
          "execution_count": 15,
          "metadata": {},
          "output_type": "execute_result"
        }
      ],
      "source": [
        "df_describe =[]\n",
        "\n",
        "# Check setiap barisnya\n",
        "for i in hour_df.columns: \n",
        "    df_describe.append([\n",
        "        i,\n",
        "        hour_df[i].nunique(),\n",
        "        hour_df[i].unique()\n",
        "    ])\n",
        "\n",
        "DESC = pd.DataFrame(df_describe, columns=['column', 'total unique', 'unique'])\n",
        "DESC"
      ]
    },
    {
      "cell_type": "markdown",
      "metadata": {},
      "source": [
        "Terlihat bahwa value yang ada pada setiap kolom sudah sesuai dengan apa yang seharusnya dan deskripsi"
      ]
    },
    {
      "cell_type": "markdown",
      "metadata": {},
      "source": [
        "4. Data Type Checking"
      ]
    },
    {
      "cell_type": "code",
      "execution_count": 16,
      "metadata": {},
      "outputs": [
        {
          "name": "stdout",
          "output_type": "stream",
          "text": [
            "<class 'pandas.core.frame.DataFrame'>\n",
            "RangeIndex: 17379 entries, 0 to 17378\n",
            "Data columns (total 17 columns):\n",
            " #   Column      Non-Null Count  Dtype  \n",
            "---  ------      --------------  -----  \n",
            " 0   instant     17379 non-null  int64  \n",
            " 1   dteday      17379 non-null  object \n",
            " 2   season      17379 non-null  int64  \n",
            " 3   yr          17379 non-null  int64  \n",
            " 4   mnth        17379 non-null  int64  \n",
            " 5   hr          17379 non-null  int64  \n",
            " 6   holiday     17379 non-null  int64  \n",
            " 7   weekday     17379 non-null  int64  \n",
            " 8   workingday  17379 non-null  int64  \n",
            " 9   weathersit  17379 non-null  int64  \n",
            " 10  temp        17379 non-null  float64\n",
            " 11  atemp       17379 non-null  float64\n",
            " 12  hum         17379 non-null  float64\n",
            " 13  windspeed   17379 non-null  float64\n",
            " 14  casual      17379 non-null  int64  \n",
            " 15  registered  17379 non-null  int64  \n",
            " 16  cnt         17379 non-null  int64  \n",
            "dtypes: float64(4), int64(12), object(1)\n",
            "memory usage: 2.3+ MB\n"
          ]
        }
      ],
      "source": [
        "hour_df.info()"
      ]
    },
    {
      "cell_type": "markdown",
      "metadata": {},
      "source": [
        "Terlihat bahwa 'dteday' memiliki data type object. Kita dapat mengubahnya menjadi datetime pada tahap Cleaning Data"
      ]
    },
    {
      "cell_type": "markdown",
      "metadata": {},
      "source": [
        "5. Outlier"
      ]
    },
    {
      "cell_type": "markdown",
      "metadata": {},
      "source": [
        "Metode dalam pengecekan oulier pada pengerjaan ini adalah menggunakan metode IQR."
      ]
    },
    {
      "cell_type": "code",
      "execution_count": 17,
      "metadata": {},
      "outputs": [
        {
          "name": "stdout",
          "output_type": "stream",
          "text": [
            "Outlier pada tiap atribut:\n",
            "atemp            0\n",
            "casual        1192\n",
            "cnt            505\n",
            "dteday           0\n",
            "holiday        500\n",
            "hr               0\n",
            "hum             22\n",
            "instant          0\n",
            "mnth             0\n",
            "registered     680\n",
            "season           0\n",
            "temp             0\n",
            "weathersit       3\n",
            "weekday          0\n",
            "windspeed      342\n",
            "workingday       0\n",
            "yr               0\n",
            "dtype: int64\n"
          ]
        }
      ],
      "source": [
        "outliers = dict(check_outlier(hour_df).sum())"
      ]
    },
    {
      "cell_type": "markdown",
      "metadata": {},
      "source": [
        "Terlihat bahwa terdapat outlier pada kolom casual, cnt, holiday,hum, registered, dan windspeed"
      ]
    },
    {
      "cell_type": "markdown",
      "metadata": {},
      "source": [
        "Kita juga bisa melakukan pengecekan juga dengan menggunakan `describe()`"
      ]
    },
    {
      "cell_type": "code",
      "execution_count": 18,
      "metadata": {},
      "outputs": [
        {
          "data": {
            "text/html": [
              "<div>\n",
              "<style scoped>\n",
              "    .dataframe tbody tr th:only-of-type {\n",
              "        vertical-align: middle;\n",
              "    }\n",
              "\n",
              "    .dataframe tbody tr th {\n",
              "        vertical-align: top;\n",
              "    }\n",
              "\n",
              "    .dataframe thead th {\n",
              "        text-align: right;\n",
              "    }\n",
              "</style>\n",
              "<table border=\"1\" class=\"dataframe\">\n",
              "  <thead>\n",
              "    <tr style=\"text-align: right;\">\n",
              "      <th></th>\n",
              "      <th>count</th>\n",
              "      <th>mean</th>\n",
              "      <th>std</th>\n",
              "      <th>min</th>\n",
              "      <th>25%</th>\n",
              "      <th>50%</th>\n",
              "      <th>75%</th>\n",
              "      <th>max</th>\n",
              "    </tr>\n",
              "  </thead>\n",
              "  <tbody>\n",
              "    <tr>\n",
              "      <th>instant</th>\n",
              "      <td>17379.0</td>\n",
              "      <td>8690.000000</td>\n",
              "      <td>5017.029500</td>\n",
              "      <td>1.00</td>\n",
              "      <td>4345.5000</td>\n",
              "      <td>8690.0000</td>\n",
              "      <td>13034.5000</td>\n",
              "      <td>17379.0000</td>\n",
              "    </tr>\n",
              "    <tr>\n",
              "      <th>season</th>\n",
              "      <td>17379.0</td>\n",
              "      <td>2.501640</td>\n",
              "      <td>1.106918</td>\n",
              "      <td>1.00</td>\n",
              "      <td>2.0000</td>\n",
              "      <td>3.0000</td>\n",
              "      <td>3.0000</td>\n",
              "      <td>4.0000</td>\n",
              "    </tr>\n",
              "    <tr>\n",
              "      <th>yr</th>\n",
              "      <td>17379.0</td>\n",
              "      <td>0.502561</td>\n",
              "      <td>0.500008</td>\n",
              "      <td>0.00</td>\n",
              "      <td>0.0000</td>\n",
              "      <td>1.0000</td>\n",
              "      <td>1.0000</td>\n",
              "      <td>1.0000</td>\n",
              "    </tr>\n",
              "    <tr>\n",
              "      <th>mnth</th>\n",
              "      <td>17379.0</td>\n",
              "      <td>6.537775</td>\n",
              "      <td>3.438776</td>\n",
              "      <td>1.00</td>\n",
              "      <td>4.0000</td>\n",
              "      <td>7.0000</td>\n",
              "      <td>10.0000</td>\n",
              "      <td>12.0000</td>\n",
              "    </tr>\n",
              "    <tr>\n",
              "      <th>hr</th>\n",
              "      <td>17379.0</td>\n",
              "      <td>11.546752</td>\n",
              "      <td>6.914405</td>\n",
              "      <td>0.00</td>\n",
              "      <td>6.0000</td>\n",
              "      <td>12.0000</td>\n",
              "      <td>18.0000</td>\n",
              "      <td>23.0000</td>\n",
              "    </tr>\n",
              "    <tr>\n",
              "      <th>holiday</th>\n",
              "      <td>17379.0</td>\n",
              "      <td>0.028770</td>\n",
              "      <td>0.167165</td>\n",
              "      <td>0.00</td>\n",
              "      <td>0.0000</td>\n",
              "      <td>0.0000</td>\n",
              "      <td>0.0000</td>\n",
              "      <td>1.0000</td>\n",
              "    </tr>\n",
              "    <tr>\n",
              "      <th>weekday</th>\n",
              "      <td>17379.0</td>\n",
              "      <td>3.003683</td>\n",
              "      <td>2.005771</td>\n",
              "      <td>0.00</td>\n",
              "      <td>1.0000</td>\n",
              "      <td>3.0000</td>\n",
              "      <td>5.0000</td>\n",
              "      <td>6.0000</td>\n",
              "    </tr>\n",
              "    <tr>\n",
              "      <th>workingday</th>\n",
              "      <td>17379.0</td>\n",
              "      <td>0.682721</td>\n",
              "      <td>0.465431</td>\n",
              "      <td>0.00</td>\n",
              "      <td>0.0000</td>\n",
              "      <td>1.0000</td>\n",
              "      <td>1.0000</td>\n",
              "      <td>1.0000</td>\n",
              "    </tr>\n",
              "    <tr>\n",
              "      <th>weathersit</th>\n",
              "      <td>17379.0</td>\n",
              "      <td>1.425283</td>\n",
              "      <td>0.639357</td>\n",
              "      <td>1.00</td>\n",
              "      <td>1.0000</td>\n",
              "      <td>1.0000</td>\n",
              "      <td>2.0000</td>\n",
              "      <td>4.0000</td>\n",
              "    </tr>\n",
              "    <tr>\n",
              "      <th>temp</th>\n",
              "      <td>17379.0</td>\n",
              "      <td>0.496987</td>\n",
              "      <td>0.192556</td>\n",
              "      <td>0.02</td>\n",
              "      <td>0.3400</td>\n",
              "      <td>0.5000</td>\n",
              "      <td>0.6600</td>\n",
              "      <td>1.0000</td>\n",
              "    </tr>\n",
              "    <tr>\n",
              "      <th>atemp</th>\n",
              "      <td>17379.0</td>\n",
              "      <td>0.475775</td>\n",
              "      <td>0.171850</td>\n",
              "      <td>0.00</td>\n",
              "      <td>0.3333</td>\n",
              "      <td>0.4848</td>\n",
              "      <td>0.6212</td>\n",
              "      <td>1.0000</td>\n",
              "    </tr>\n",
              "    <tr>\n",
              "      <th>hum</th>\n",
              "      <td>17379.0</td>\n",
              "      <td>0.627229</td>\n",
              "      <td>0.192930</td>\n",
              "      <td>0.00</td>\n",
              "      <td>0.4800</td>\n",
              "      <td>0.6300</td>\n",
              "      <td>0.7800</td>\n",
              "      <td>1.0000</td>\n",
              "    </tr>\n",
              "    <tr>\n",
              "      <th>windspeed</th>\n",
              "      <td>17379.0</td>\n",
              "      <td>0.190098</td>\n",
              "      <td>0.122340</td>\n",
              "      <td>0.00</td>\n",
              "      <td>0.1045</td>\n",
              "      <td>0.1940</td>\n",
              "      <td>0.2537</td>\n",
              "      <td>0.8507</td>\n",
              "    </tr>\n",
              "    <tr>\n",
              "      <th>casual</th>\n",
              "      <td>17379.0</td>\n",
              "      <td>35.676218</td>\n",
              "      <td>49.305030</td>\n",
              "      <td>0.00</td>\n",
              "      <td>4.0000</td>\n",
              "      <td>17.0000</td>\n",
              "      <td>48.0000</td>\n",
              "      <td>367.0000</td>\n",
              "    </tr>\n",
              "    <tr>\n",
              "      <th>registered</th>\n",
              "      <td>17379.0</td>\n",
              "      <td>153.786869</td>\n",
              "      <td>151.357286</td>\n",
              "      <td>0.00</td>\n",
              "      <td>34.0000</td>\n",
              "      <td>115.0000</td>\n",
              "      <td>220.0000</td>\n",
              "      <td>886.0000</td>\n",
              "    </tr>\n",
              "    <tr>\n",
              "      <th>cnt</th>\n",
              "      <td>17379.0</td>\n",
              "      <td>189.463088</td>\n",
              "      <td>181.387599</td>\n",
              "      <td>1.00</td>\n",
              "      <td>40.0000</td>\n",
              "      <td>142.0000</td>\n",
              "      <td>281.0000</td>\n",
              "      <td>977.0000</td>\n",
              "    </tr>\n",
              "  </tbody>\n",
              "</table>\n",
              "</div>"
            ],
            "text/plain": [
              "              count         mean          std   min        25%        50%  \\\n",
              "instant     17379.0  8690.000000  5017.029500  1.00  4345.5000  8690.0000   \n",
              "season      17379.0     2.501640     1.106918  1.00     2.0000     3.0000   \n",
              "yr          17379.0     0.502561     0.500008  0.00     0.0000     1.0000   \n",
              "mnth        17379.0     6.537775     3.438776  1.00     4.0000     7.0000   \n",
              "hr          17379.0    11.546752     6.914405  0.00     6.0000    12.0000   \n",
              "holiday     17379.0     0.028770     0.167165  0.00     0.0000     0.0000   \n",
              "weekday     17379.0     3.003683     2.005771  0.00     1.0000     3.0000   \n",
              "workingday  17379.0     0.682721     0.465431  0.00     0.0000     1.0000   \n",
              "weathersit  17379.0     1.425283     0.639357  1.00     1.0000     1.0000   \n",
              "temp        17379.0     0.496987     0.192556  0.02     0.3400     0.5000   \n",
              "atemp       17379.0     0.475775     0.171850  0.00     0.3333     0.4848   \n",
              "hum         17379.0     0.627229     0.192930  0.00     0.4800     0.6300   \n",
              "windspeed   17379.0     0.190098     0.122340  0.00     0.1045     0.1940   \n",
              "casual      17379.0    35.676218    49.305030  0.00     4.0000    17.0000   \n",
              "registered  17379.0   153.786869   151.357286  0.00    34.0000   115.0000   \n",
              "cnt         17379.0   189.463088   181.387599  1.00    40.0000   142.0000   \n",
              "\n",
              "                   75%         max  \n",
              "instant     13034.5000  17379.0000  \n",
              "season          3.0000      4.0000  \n",
              "yr              1.0000      1.0000  \n",
              "mnth           10.0000     12.0000  \n",
              "hr             18.0000     23.0000  \n",
              "holiday         0.0000      1.0000  \n",
              "weekday         5.0000      6.0000  \n",
              "workingday      1.0000      1.0000  \n",
              "weathersit      2.0000      4.0000  \n",
              "temp            0.6600      1.0000  \n",
              "atemp           0.6212      1.0000  \n",
              "hum             0.7800      1.0000  \n",
              "windspeed       0.2537      0.8507  \n",
              "casual         48.0000    367.0000  \n",
              "registered    220.0000    886.0000  \n",
              "cnt           281.0000    977.0000  "
            ]
          },
          "execution_count": 18,
          "metadata": {},
          "output_type": "execute_result"
        }
      ],
      "source": [
        "hour_df.describe().T"
      ]
    },
    {
      "cell_type": "markdown",
      "metadata": {},
      "source": [
        "Terlihat aman"
      ]
    },
    {
      "cell_type": "markdown",
      "metadata": {
        "id": "EhN5R4hr8DC1"
      },
      "source": [
        "### Cleaning Data"
      ]
    },
    {
      "cell_type": "markdown",
      "metadata": {},
      "source": [
        "3 Tahap yang dilakukan adalah Define, Code, dan Test."
      ]
    },
    {
      "cell_type": "markdown",
      "metadata": {},
      "source": [
        "### Define"
      ]
    },
    {
      "cell_type": "markdown",
      "metadata": {},
      "source": [
        "Yang harus dilakukan pada tahap ini adalah:\n",
        "- Membuat tabel/dataframe yang tidak digunakan\n",
        "Pertanyaan bisnis saya tidak memerlukan dataset hour_df sehingga kita bisa membuatnya\n",
        "- Mengganti datatype dteday dari object menjadi datatime pada day_df\n",
        "- Drop kolom yang kurang penting (metadata) yaitu instant\n"
      ]
    },
    {
      "cell_type": "markdown",
      "metadata": {},
      "source": [
        "Pada kasus ini saya mempertahankan outlier, karena saya menganggap masih dalam range yang tepat dan outlier tersebut mengindikasikan special case. Selain itu, pengerjaan ini belum mebuat model sehingga masih tidak diperlukan"
      ]
    },
    {
      "cell_type": "markdown",
      "metadata": {},
      "source": [
        "### Code"
      ]
    },
    {
      "cell_type": "code",
      "execution_count": 19,
      "metadata": {},
      "outputs": [],
      "source": [
        "# Menghapus hour_df\n",
        "del hour_df\n",
        "\n",
        "# Mengganti datatype dteday pada \n",
        "day_df['dteday'] = pd.to_datetime(day_df['dteday'])\n",
        "\n",
        "# Drop kolom\n",
        "day_df.drop(columns=['instant'], inplace=True)\n",
        "\n"
      ]
    },
    {
      "cell_type": "markdown",
      "metadata": {},
      "source": [
        "### Test"
      ]
    },
    {
      "cell_type": "markdown",
      "metadata": {},
      "source": [
        "Mengecek apakah Cleaning Data berhasil dilakukan"
      ]
    },
    {
      "cell_type": "code",
      "execution_count": 20,
      "metadata": {},
      "outputs": [
        {
          "data": {
            "text/plain": [
              "False"
            ]
          },
          "execution_count": 20,
          "metadata": {},
          "output_type": "execute_result"
        }
      ],
      "source": [
        "'hour_df' in globals() or 'hour_df' in locals()"
      ]
    },
    {
      "cell_type": "markdown",
      "metadata": {},
      "source": [
        "Sudah tidak ada lagi dataframe hour_df"
      ]
    },
    {
      "cell_type": "code",
      "execution_count": 21,
      "metadata": {},
      "outputs": [
        {
          "name": "stdout",
          "output_type": "stream",
          "text": [
            "<class 'pandas.core.frame.DataFrame'>\n",
            "RangeIndex: 731 entries, 0 to 730\n",
            "Data columns (total 15 columns):\n",
            " #   Column      Non-Null Count  Dtype         \n",
            "---  ------      --------------  -----         \n",
            " 0   dteday      731 non-null    datetime64[ns]\n",
            " 1   season      731 non-null    int64         \n",
            " 2   yr          731 non-null    int64         \n",
            " 3   mnth        731 non-null    int64         \n",
            " 4   holiday     731 non-null    int64         \n",
            " 5   weekday     731 non-null    int64         \n",
            " 6   workingday  731 non-null    int64         \n",
            " 7   weathersit  731 non-null    int64         \n",
            " 8   temp        731 non-null    float64       \n",
            " 9   atemp       731 non-null    float64       \n",
            " 10  hum         731 non-null    float64       \n",
            " 11  windspeed   731 non-null    float64       \n",
            " 12  casual      731 non-null    int64         \n",
            " 13  registered  731 non-null    int64         \n",
            " 14  cnt         731 non-null    int64         \n",
            "dtypes: datetime64[ns](1), float64(4), int64(10)\n",
            "memory usage: 85.8 KB\n"
          ]
        }
      ],
      "source": [
        "day_df.info()"
      ]
    },
    {
      "cell_type": "markdown",
      "metadata": {},
      "source": [
        "Tipe data kolom dteday berubah menjadi datetime dan tidak ada instant."
      ]
    },
    {
      "cell_type": "markdown",
      "metadata": {
        "id": "gp-Y6wU38DC1"
      },
      "source": [
        "## Exploratory Data Analysis (EDA)"
      ]
    },
    {
      "cell_type": "markdown",
      "metadata": {},
      "source": [
        "### 1. Rangkuman Descriptive Statistics"
      ]
    },
    {
      "cell_type": "code",
      "execution_count": 22,
      "metadata": {
        "id": "e9CQCZjk8DC2"
      },
      "outputs": [
        {
          "data": {
            "text/html": [
              "<div>\n",
              "<style scoped>\n",
              "    .dataframe tbody tr th:only-of-type {\n",
              "        vertical-align: middle;\n",
              "    }\n",
              "\n",
              "    .dataframe tbody tr th {\n",
              "        vertical-align: top;\n",
              "    }\n",
              "\n",
              "    .dataframe thead th {\n",
              "        text-align: right;\n",
              "    }\n",
              "</style>\n",
              "<table border=\"1\" class=\"dataframe\">\n",
              "  <thead>\n",
              "    <tr style=\"text-align: right;\">\n",
              "      <th></th>\n",
              "      <th>count</th>\n",
              "      <th>unique</th>\n",
              "      <th>top</th>\n",
              "      <th>freq</th>\n",
              "      <th>first</th>\n",
              "      <th>last</th>\n",
              "      <th>mean</th>\n",
              "      <th>std</th>\n",
              "      <th>min</th>\n",
              "      <th>25%</th>\n",
              "      <th>50%</th>\n",
              "      <th>75%</th>\n",
              "      <th>max</th>\n",
              "    </tr>\n",
              "  </thead>\n",
              "  <tbody>\n",
              "    <tr>\n",
              "      <th>dteday</th>\n",
              "      <td>731</td>\n",
              "      <td>731</td>\n",
              "      <td>2011-01-01</td>\n",
              "      <td>1</td>\n",
              "      <td>2011-01-01</td>\n",
              "      <td>2012-12-31</td>\n",
              "      <td>NaN</td>\n",
              "      <td>NaN</td>\n",
              "      <td>NaN</td>\n",
              "      <td>NaN</td>\n",
              "      <td>NaN</td>\n",
              "      <td>NaN</td>\n",
              "      <td>NaN</td>\n",
              "    </tr>\n",
              "    <tr>\n",
              "      <th>season</th>\n",
              "      <td>731.0</td>\n",
              "      <td>NaN</td>\n",
              "      <td>NaT</td>\n",
              "      <td>NaN</td>\n",
              "      <td>NaT</td>\n",
              "      <td>NaT</td>\n",
              "      <td>2.49658</td>\n",
              "      <td>1.110807</td>\n",
              "      <td>1.0</td>\n",
              "      <td>2.0</td>\n",
              "      <td>3.0</td>\n",
              "      <td>3.0</td>\n",
              "      <td>4.0</td>\n",
              "    </tr>\n",
              "    <tr>\n",
              "      <th>yr</th>\n",
              "      <td>731.0</td>\n",
              "      <td>NaN</td>\n",
              "      <td>NaT</td>\n",
              "      <td>NaN</td>\n",
              "      <td>NaT</td>\n",
              "      <td>NaT</td>\n",
              "      <td>0.500684</td>\n",
              "      <td>0.500342</td>\n",
              "      <td>0.0</td>\n",
              "      <td>0.0</td>\n",
              "      <td>1.0</td>\n",
              "      <td>1.0</td>\n",
              "      <td>1.0</td>\n",
              "    </tr>\n",
              "    <tr>\n",
              "      <th>mnth</th>\n",
              "      <td>731.0</td>\n",
              "      <td>NaN</td>\n",
              "      <td>NaT</td>\n",
              "      <td>NaN</td>\n",
              "      <td>NaT</td>\n",
              "      <td>NaT</td>\n",
              "      <td>6.519836</td>\n",
              "      <td>3.451913</td>\n",
              "      <td>1.0</td>\n",
              "      <td>4.0</td>\n",
              "      <td>7.0</td>\n",
              "      <td>10.0</td>\n",
              "      <td>12.0</td>\n",
              "    </tr>\n",
              "    <tr>\n",
              "      <th>holiday</th>\n",
              "      <td>731.0</td>\n",
              "      <td>NaN</td>\n",
              "      <td>NaT</td>\n",
              "      <td>NaN</td>\n",
              "      <td>NaT</td>\n",
              "      <td>NaT</td>\n",
              "      <td>0.028728</td>\n",
              "      <td>0.167155</td>\n",
              "      <td>0.0</td>\n",
              "      <td>0.0</td>\n",
              "      <td>0.0</td>\n",
              "      <td>0.0</td>\n",
              "      <td>1.0</td>\n",
              "    </tr>\n",
              "    <tr>\n",
              "      <th>weekday</th>\n",
              "      <td>731.0</td>\n",
              "      <td>NaN</td>\n",
              "      <td>NaT</td>\n",
              "      <td>NaN</td>\n",
              "      <td>NaT</td>\n",
              "      <td>NaT</td>\n",
              "      <td>2.997264</td>\n",
              "      <td>2.004787</td>\n",
              "      <td>0.0</td>\n",
              "      <td>1.0</td>\n",
              "      <td>3.0</td>\n",
              "      <td>5.0</td>\n",
              "      <td>6.0</td>\n",
              "    </tr>\n",
              "    <tr>\n",
              "      <th>workingday</th>\n",
              "      <td>731.0</td>\n",
              "      <td>NaN</td>\n",
              "      <td>NaT</td>\n",
              "      <td>NaN</td>\n",
              "      <td>NaT</td>\n",
              "      <td>NaT</td>\n",
              "      <td>0.683995</td>\n",
              "      <td>0.465233</td>\n",
              "      <td>0.0</td>\n",
              "      <td>0.0</td>\n",
              "      <td>1.0</td>\n",
              "      <td>1.0</td>\n",
              "      <td>1.0</td>\n",
              "    </tr>\n",
              "    <tr>\n",
              "      <th>weathersit</th>\n",
              "      <td>731.0</td>\n",
              "      <td>NaN</td>\n",
              "      <td>NaT</td>\n",
              "      <td>NaN</td>\n",
              "      <td>NaT</td>\n",
              "      <td>NaT</td>\n",
              "      <td>1.395349</td>\n",
              "      <td>0.544894</td>\n",
              "      <td>1.0</td>\n",
              "      <td>1.0</td>\n",
              "      <td>1.0</td>\n",
              "      <td>2.0</td>\n",
              "      <td>3.0</td>\n",
              "    </tr>\n",
              "    <tr>\n",
              "      <th>temp</th>\n",
              "      <td>731.0</td>\n",
              "      <td>NaN</td>\n",
              "      <td>NaT</td>\n",
              "      <td>NaN</td>\n",
              "      <td>NaT</td>\n",
              "      <td>NaT</td>\n",
              "      <td>0.495385</td>\n",
              "      <td>0.183051</td>\n",
              "      <td>0.05913</td>\n",
              "      <td>0.337083</td>\n",
              "      <td>0.498333</td>\n",
              "      <td>0.655417</td>\n",
              "      <td>0.861667</td>\n",
              "    </tr>\n",
              "    <tr>\n",
              "      <th>atemp</th>\n",
              "      <td>731.0</td>\n",
              "      <td>NaN</td>\n",
              "      <td>NaT</td>\n",
              "      <td>NaN</td>\n",
              "      <td>NaT</td>\n",
              "      <td>NaT</td>\n",
              "      <td>0.474354</td>\n",
              "      <td>0.162961</td>\n",
              "      <td>0.07907</td>\n",
              "      <td>0.337842</td>\n",
              "      <td>0.486733</td>\n",
              "      <td>0.608602</td>\n",
              "      <td>0.840896</td>\n",
              "    </tr>\n",
              "    <tr>\n",
              "      <th>hum</th>\n",
              "      <td>731.0</td>\n",
              "      <td>NaN</td>\n",
              "      <td>NaT</td>\n",
              "      <td>NaN</td>\n",
              "      <td>NaT</td>\n",
              "      <td>NaT</td>\n",
              "      <td>0.627894</td>\n",
              "      <td>0.142429</td>\n",
              "      <td>0.0</td>\n",
              "      <td>0.52</td>\n",
              "      <td>0.626667</td>\n",
              "      <td>0.730209</td>\n",
              "      <td>0.9725</td>\n",
              "    </tr>\n",
              "    <tr>\n",
              "      <th>windspeed</th>\n",
              "      <td>731.0</td>\n",
              "      <td>NaN</td>\n",
              "      <td>NaT</td>\n",
              "      <td>NaN</td>\n",
              "      <td>NaT</td>\n",
              "      <td>NaT</td>\n",
              "      <td>0.190486</td>\n",
              "      <td>0.077498</td>\n",
              "      <td>0.022392</td>\n",
              "      <td>0.13495</td>\n",
              "      <td>0.180975</td>\n",
              "      <td>0.233214</td>\n",
              "      <td>0.507463</td>\n",
              "    </tr>\n",
              "    <tr>\n",
              "      <th>casual</th>\n",
              "      <td>731.0</td>\n",
              "      <td>NaN</td>\n",
              "      <td>NaT</td>\n",
              "      <td>NaN</td>\n",
              "      <td>NaT</td>\n",
              "      <td>NaT</td>\n",
              "      <td>848.176471</td>\n",
              "      <td>686.622488</td>\n",
              "      <td>2.0</td>\n",
              "      <td>315.5</td>\n",
              "      <td>713.0</td>\n",
              "      <td>1096.0</td>\n",
              "      <td>3410.0</td>\n",
              "    </tr>\n",
              "    <tr>\n",
              "      <th>registered</th>\n",
              "      <td>731.0</td>\n",
              "      <td>NaN</td>\n",
              "      <td>NaT</td>\n",
              "      <td>NaN</td>\n",
              "      <td>NaT</td>\n",
              "      <td>NaT</td>\n",
              "      <td>3656.172367</td>\n",
              "      <td>1560.256377</td>\n",
              "      <td>20.0</td>\n",
              "      <td>2497.0</td>\n",
              "      <td>3662.0</td>\n",
              "      <td>4776.5</td>\n",
              "      <td>6946.0</td>\n",
              "    </tr>\n",
              "    <tr>\n",
              "      <th>cnt</th>\n",
              "      <td>731.0</td>\n",
              "      <td>NaN</td>\n",
              "      <td>NaT</td>\n",
              "      <td>NaN</td>\n",
              "      <td>NaT</td>\n",
              "      <td>NaT</td>\n",
              "      <td>4504.348837</td>\n",
              "      <td>1937.211452</td>\n",
              "      <td>22.0</td>\n",
              "      <td>3152.0</td>\n",
              "      <td>4548.0</td>\n",
              "      <td>5956.0</td>\n",
              "      <td>8714.0</td>\n",
              "    </tr>\n",
              "  </tbody>\n",
              "</table>\n",
              "</div>"
            ],
            "text/plain": [
              "            count unique        top freq      first       last         mean  \\\n",
              "dteday        731    731 2011-01-01    1 2011-01-01 2012-12-31          NaN   \n",
              "season      731.0    NaN        NaT  NaN        NaT        NaT      2.49658   \n",
              "yr          731.0    NaN        NaT  NaN        NaT        NaT     0.500684   \n",
              "mnth        731.0    NaN        NaT  NaN        NaT        NaT     6.519836   \n",
              "holiday     731.0    NaN        NaT  NaN        NaT        NaT     0.028728   \n",
              "weekday     731.0    NaN        NaT  NaN        NaT        NaT     2.997264   \n",
              "workingday  731.0    NaN        NaT  NaN        NaT        NaT     0.683995   \n",
              "weathersit  731.0    NaN        NaT  NaN        NaT        NaT     1.395349   \n",
              "temp        731.0    NaN        NaT  NaN        NaT        NaT     0.495385   \n",
              "atemp       731.0    NaN        NaT  NaN        NaT        NaT     0.474354   \n",
              "hum         731.0    NaN        NaT  NaN        NaT        NaT     0.627894   \n",
              "windspeed   731.0    NaN        NaT  NaN        NaT        NaT     0.190486   \n",
              "casual      731.0    NaN        NaT  NaN        NaT        NaT   848.176471   \n",
              "registered  731.0    NaN        NaT  NaN        NaT        NaT  3656.172367   \n",
              "cnt         731.0    NaN        NaT  NaN        NaT        NaT  4504.348837   \n",
              "\n",
              "                    std       min       25%       50%       75%       max  \n",
              "dteday              NaN       NaN       NaN       NaN       NaN       NaN  \n",
              "season         1.110807       1.0       2.0       3.0       3.0       4.0  \n",
              "yr             0.500342       0.0       0.0       1.0       1.0       1.0  \n",
              "mnth           3.451913       1.0       4.0       7.0      10.0      12.0  \n",
              "holiday        0.167155       0.0       0.0       0.0       0.0       1.0  \n",
              "weekday        2.004787       0.0       1.0       3.0       5.0       6.0  \n",
              "workingday     0.465233       0.0       0.0       1.0       1.0       1.0  \n",
              "weathersit     0.544894       1.0       1.0       1.0       2.0       3.0  \n",
              "temp           0.183051   0.05913  0.337083  0.498333  0.655417  0.861667  \n",
              "atemp          0.162961   0.07907  0.337842  0.486733  0.608602  0.840896  \n",
              "hum            0.142429       0.0      0.52  0.626667  0.730209    0.9725  \n",
              "windspeed      0.077498  0.022392   0.13495  0.180975  0.233214  0.507463  \n",
              "casual       686.622488       2.0     315.5     713.0    1096.0    3410.0  \n",
              "registered  1560.256377      20.0    2497.0    3662.0    4776.5    6946.0  \n",
              "cnt         1937.211452      22.0    3152.0    4548.0    5956.0    8714.0  "
            ]
          },
          "execution_count": 22,
          "metadata": {},
          "output_type": "execute_result"
        }
      ],
      "source": [
        "day_df.describe(include=\"all\").T\n"
      ]
    },
    {
      "cell_type": "markdown",
      "metadata": {},
      "source": [
        "### 2. Analisis Seasons berdasarkan Penyewa"
      ]
    },
    {
      "cell_type": "code",
      "execution_count": 23,
      "metadata": {},
      "outputs": [
        {
          "data": {
            "text/html": [
              "<div>\n",
              "<style scoped>\n",
              "    .dataframe tbody tr th:only-of-type {\n",
              "        vertical-align: middle;\n",
              "    }\n",
              "\n",
              "    .dataframe tbody tr th {\n",
              "        vertical-align: top;\n",
              "    }\n",
              "\n",
              "    .dataframe thead tr th {\n",
              "        text-align: left;\n",
              "    }\n",
              "\n",
              "    .dataframe thead tr:last-of-type th {\n",
              "        text-align: right;\n",
              "    }\n",
              "</style>\n",
              "<table border=\"1\" class=\"dataframe\">\n",
              "  <thead>\n",
              "    <tr>\n",
              "      <th></th>\n",
              "      <th colspan=\"4\" halign=\"left\">casual</th>\n",
              "      <th colspan=\"4\" halign=\"left\">registered</th>\n",
              "    </tr>\n",
              "    <tr>\n",
              "      <th></th>\n",
              "      <th>median</th>\n",
              "      <th>mean</th>\n",
              "      <th>min</th>\n",
              "      <th>max</th>\n",
              "      <th>median</th>\n",
              "      <th>mean</th>\n",
              "      <th>min</th>\n",
              "      <th>max</th>\n",
              "    </tr>\n",
              "    <tr>\n",
              "      <th>season</th>\n",
              "      <th></th>\n",
              "      <th></th>\n",
              "      <th></th>\n",
              "      <th></th>\n",
              "      <th></th>\n",
              "      <th></th>\n",
              "      <th></th>\n",
              "      <th></th>\n",
              "    </tr>\n",
              "  </thead>\n",
              "  <tbody>\n",
              "    <tr>\n",
              "      <th>springer</th>\n",
              "      <td>218.0</td>\n",
              "      <td>334.928177</td>\n",
              "      <td>9</td>\n",
              "      <td>3155</td>\n",
              "      <td>1867.0</td>\n",
              "      <td>2269.204420</td>\n",
              "      <td>416</td>\n",
              "      <td>5315</td>\n",
              "    </tr>\n",
              "    <tr>\n",
              "      <th>summer</th>\n",
              "      <td>867.0</td>\n",
              "      <td>1106.097826</td>\n",
              "      <td>120</td>\n",
              "      <td>3410</td>\n",
              "      <td>3844.0</td>\n",
              "      <td>3886.233696</td>\n",
              "      <td>674</td>\n",
              "      <td>6456</td>\n",
              "    </tr>\n",
              "    <tr>\n",
              "      <th>fall</th>\n",
              "      <td>1050.5</td>\n",
              "      <td>1202.611702</td>\n",
              "      <td>118</td>\n",
              "      <td>3160</td>\n",
              "      <td>4110.5</td>\n",
              "      <td>4441.691489</td>\n",
              "      <td>889</td>\n",
              "      <td>6917</td>\n",
              "    </tr>\n",
              "    <tr>\n",
              "      <th>winter</th>\n",
              "      <td>544.5</td>\n",
              "      <td>729.112360</td>\n",
              "      <td>2</td>\n",
              "      <td>3031</td>\n",
              "      <td>3815.0</td>\n",
              "      <td>3999.050562</td>\n",
              "      <td>20</td>\n",
              "      <td>6946</td>\n",
              "    </tr>\n",
              "  </tbody>\n",
              "</table>\n",
              "</div>"
            ],
            "text/plain": [
              "          casual                         registered                        \n",
              "          median         mean  min   max     median         mean  min   max\n",
              "season                                                                     \n",
              "springer   218.0   334.928177    9  3155     1867.0  2269.204420  416  5315\n",
              "summer     867.0  1106.097826  120  3410     3844.0  3886.233696  674  6456\n",
              "fall      1050.5  1202.611702  118  3160     4110.5  4441.691489  889  6917\n",
              "winter     544.5   729.112360    2  3031     3815.0  3999.050562   20  6946"
            ]
          },
          "execution_count": 23,
          "metadata": {},
          "output_type": "execute_result"
        }
      ],
      "source": [
        "seasonal_analysis = day_df.groupby('season')[['casual', 'registered']].agg(['median', 'mean', 'min', 'max'])\n",
        "seasonal_analysis.index = seasonal_analysis.index.map({1: 'springer', 2: 'summer', 3: 'fall', 4: 'winter'})\n",
        "seasonal_analysis"
      ]
    },
    {
      "cell_type": "markdown",
      "metadata": {},
      "source": [
        "Hal menarik yang bisa dilihat adalah pada winter, penyewa paling sedikit adalah 2 (casual) dan penyewa paling banyak adalah 69946 (registered) di hari itu"
      ]
    },
    {
      "cell_type": "markdown",
      "metadata": {},
      "source": [
        "### 3. Analisis Month berdasarkan Penyewa"
      ]
    },
    {
      "cell_type": "code",
      "execution_count": 24,
      "metadata": {},
      "outputs": [
        {
          "data": {
            "text/html": [
              "<div>\n",
              "<style scoped>\n",
              "    .dataframe tbody tr th:only-of-type {\n",
              "        vertical-align: middle;\n",
              "    }\n",
              "\n",
              "    .dataframe tbody tr th {\n",
              "        vertical-align: top;\n",
              "    }\n",
              "\n",
              "    .dataframe thead tr th {\n",
              "        text-align: left;\n",
              "    }\n",
              "\n",
              "    .dataframe thead tr:last-of-type th {\n",
              "        text-align: right;\n",
              "    }\n",
              "</style>\n",
              "<table border=\"1\" class=\"dataframe\">\n",
              "  <thead>\n",
              "    <tr>\n",
              "      <th></th>\n",
              "      <th colspan=\"4\" halign=\"left\">casual</th>\n",
              "      <th colspan=\"4\" halign=\"left\">registered</th>\n",
              "    </tr>\n",
              "    <tr>\n",
              "      <th></th>\n",
              "      <th>median</th>\n",
              "      <th>mean</th>\n",
              "      <th>min</th>\n",
              "      <th>max</th>\n",
              "      <th>median</th>\n",
              "      <th>mean</th>\n",
              "      <th>min</th>\n",
              "      <th>max</th>\n",
              "    </tr>\n",
              "    <tr>\n",
              "      <th>mnth</th>\n",
              "      <th></th>\n",
              "      <th></th>\n",
              "      <th></th>\n",
              "      <th></th>\n",
              "      <th></th>\n",
              "      <th></th>\n",
              "      <th></th>\n",
              "      <th></th>\n",
              "    </tr>\n",
              "  </thead>\n",
              "  <tbody>\n",
              "    <tr>\n",
              "      <th>1</th>\n",
              "      <td>126.5</td>\n",
              "      <td>194.225806</td>\n",
              "      <td>9</td>\n",
              "      <td>1070</td>\n",
              "      <td>1657.5</td>\n",
              "      <td>1982.112903</td>\n",
              "      <td>416</td>\n",
              "      <td>4185</td>\n",
              "    </tr>\n",
              "    <tr>\n",
              "      <th>2</th>\n",
              "      <td>199.0</td>\n",
              "      <td>262.508772</td>\n",
              "      <td>47</td>\n",
              "      <td>1435</td>\n",
              "      <td>1977.0</td>\n",
              "      <td>2392.789474</td>\n",
              "      <td>905</td>\n",
              "      <td>4546</td>\n",
              "    </tr>\n",
              "    <tr>\n",
              "      <th>3</th>\n",
              "      <td>508.5</td>\n",
              "      <td>716.838710</td>\n",
              "      <td>46</td>\n",
              "      <td>3155</td>\n",
              "      <td>2347.0</td>\n",
              "      <td>2975.419355</td>\n",
              "      <td>491</td>\n",
              "      <td>5893</td>\n",
              "    </tr>\n",
              "    <tr>\n",
              "      <th>4</th>\n",
              "      <td>832.5</td>\n",
              "      <td>1013.366667</td>\n",
              "      <td>120</td>\n",
              "      <td>3252</td>\n",
              "      <td>3395.5</td>\n",
              "      <td>3471.533333</td>\n",
              "      <td>674</td>\n",
              "      <td>5950</td>\n",
              "    </tr>\n",
              "    <tr>\n",
              "      <th>5</th>\n",
              "      <td>887.0</td>\n",
              "      <td>1214.274194</td>\n",
              "      <td>255</td>\n",
              "      <td>3410</td>\n",
              "      <td>3883.5</td>\n",
              "      <td>4135.500000</td>\n",
              "      <td>2213</td>\n",
              "      <td>6433</td>\n",
              "    </tr>\n",
              "    <tr>\n",
              "      <th>6</th>\n",
              "      <td>968.5</td>\n",
              "      <td>1231.766667</td>\n",
              "      <td>477</td>\n",
              "      <td>2963</td>\n",
              "      <td>4359.0</td>\n",
              "      <td>4540.600000</td>\n",
              "      <td>2993</td>\n",
              "      <td>6456</td>\n",
              "    </tr>\n",
              "    <tr>\n",
              "      <th>7</th>\n",
              "      <td>1045.0</td>\n",
              "      <td>1260.596774</td>\n",
              "      <td>562</td>\n",
              "      <td>3065</td>\n",
              "      <td>4005.5</td>\n",
              "      <td>4303.080645</td>\n",
              "      <td>2298</td>\n",
              "      <td>6790</td>\n",
              "    </tr>\n",
              "    <tr>\n",
              "      <th>8</th>\n",
              "      <td>1111.0</td>\n",
              "      <td>1161.919355</td>\n",
              "      <td>226</td>\n",
              "      <td>2827</td>\n",
              "      <td>4116.5</td>\n",
              "      <td>4502.500000</td>\n",
              "      <td>889</td>\n",
              "      <td>6541</td>\n",
              "    </tr>\n",
              "    <tr>\n",
              "      <th>9</th>\n",
              "      <td>970.0</td>\n",
              "      <td>1172.050000</td>\n",
              "      <td>118</td>\n",
              "      <td>3160</td>\n",
              "      <td>4162.0</td>\n",
              "      <td>4594.466667</td>\n",
              "      <td>1689</td>\n",
              "      <td>6946</td>\n",
              "    </tr>\n",
              "    <tr>\n",
              "      <th>10</th>\n",
              "      <td>771.5</td>\n",
              "      <td>963.870968</td>\n",
              "      <td>2</td>\n",
              "      <td>3031</td>\n",
              "      <td>4014.0</td>\n",
              "      <td>4235.354839</td>\n",
              "      <td>20</td>\n",
              "      <td>6911</td>\n",
              "    </tr>\n",
              "    <tr>\n",
              "      <th>11</th>\n",
              "      <td>449.0</td>\n",
              "      <td>610.050000</td>\n",
              "      <td>69</td>\n",
              "      <td>2290</td>\n",
              "      <td>3746.5</td>\n",
              "      <td>3637.133333</td>\n",
              "      <td>935</td>\n",
              "      <td>5520</td>\n",
              "    </tr>\n",
              "    <tr>\n",
              "      <th>12</th>\n",
              "      <td>292.5</td>\n",
              "      <td>349.887097</td>\n",
              "      <td>9</td>\n",
              "      <td>1153</td>\n",
              "      <td>3155.0</td>\n",
              "      <td>3053.919355</td>\n",
              "      <td>432</td>\n",
              "      <td>6055</td>\n",
              "    </tr>\n",
              "  </tbody>\n",
              "</table>\n",
              "</div>"
            ],
            "text/plain": [
              "      casual                         registered                         \n",
              "      median         mean  min   max     median         mean   min   max\n",
              "mnth                                                                    \n",
              "1      126.5   194.225806    9  1070     1657.5  1982.112903   416  4185\n",
              "2      199.0   262.508772   47  1435     1977.0  2392.789474   905  4546\n",
              "3      508.5   716.838710   46  3155     2347.0  2975.419355   491  5893\n",
              "4      832.5  1013.366667  120  3252     3395.5  3471.533333   674  5950\n",
              "5      887.0  1214.274194  255  3410     3883.5  4135.500000  2213  6433\n",
              "6      968.5  1231.766667  477  2963     4359.0  4540.600000  2993  6456\n",
              "7     1045.0  1260.596774  562  3065     4005.5  4303.080645  2298  6790\n",
              "8     1111.0  1161.919355  226  2827     4116.5  4502.500000   889  6541\n",
              "9      970.0  1172.050000  118  3160     4162.0  4594.466667  1689  6946\n",
              "10     771.5   963.870968    2  3031     4014.0  4235.354839    20  6911\n",
              "11     449.0   610.050000   69  2290     3746.5  3637.133333   935  5520\n",
              "12     292.5   349.887097    9  1153     3155.0  3053.919355   432  6055"
            ]
          },
          "execution_count": 24,
          "metadata": {},
          "output_type": "execute_result"
        }
      ],
      "source": [
        "monthly_analysis = day_df.groupby(day_df['mnth'])[['casual', 'registered']].agg(['median', 'mean', 'min', 'max'])\n",
        "monthly_analysis"
      ]
    },
    {
      "cell_type": "markdown",
      "metadata": {},
      "source": [
        "Menariknya, bulan ke-10 ada hari yang memiliki penyewa casual paling dikit yaitu 2 dan terbesar pada hari di bulan ke-9."
      ]
    },
    {
      "cell_type": "markdown",
      "metadata": {},
      "source": [
        "### 4. Analisis Analisis Workingday berdasarkan Penyewa"
      ]
    },
    {
      "cell_type": "code",
      "execution_count": 25,
      "metadata": {},
      "outputs": [
        {
          "data": {
            "text/html": [
              "<div>\n",
              "<style scoped>\n",
              "    .dataframe tbody tr th:only-of-type {\n",
              "        vertical-align: middle;\n",
              "    }\n",
              "\n",
              "    .dataframe tbody tr th {\n",
              "        vertical-align: top;\n",
              "    }\n",
              "\n",
              "    .dataframe thead tr th {\n",
              "        text-align: left;\n",
              "    }\n",
              "\n",
              "    .dataframe thead tr:last-of-type th {\n",
              "        text-align: right;\n",
              "    }\n",
              "</style>\n",
              "<table border=\"1\" class=\"dataframe\">\n",
              "  <thead>\n",
              "    <tr>\n",
              "      <th></th>\n",
              "      <th colspan=\"4\" halign=\"left\">casual</th>\n",
              "      <th colspan=\"4\" halign=\"left\">registered</th>\n",
              "    </tr>\n",
              "    <tr>\n",
              "      <th></th>\n",
              "      <th>median</th>\n",
              "      <th>mean</th>\n",
              "      <th>min</th>\n",
              "      <th>max</th>\n",
              "      <th>median</th>\n",
              "      <th>mean</th>\n",
              "      <th>min</th>\n",
              "      <th>max</th>\n",
              "    </tr>\n",
              "    <tr>\n",
              "      <th>workingday</th>\n",
              "      <th></th>\n",
              "      <th></th>\n",
              "      <th></th>\n",
              "      <th></th>\n",
              "      <th></th>\n",
              "      <th></th>\n",
              "      <th></th>\n",
              "      <th></th>\n",
              "    </tr>\n",
              "  </thead>\n",
              "  <tbody>\n",
              "    <tr>\n",
              "      <th>0</th>\n",
              "      <td>1338.0</td>\n",
              "      <td>1371.134199</td>\n",
              "      <td>54</td>\n",
              "      <td>3410</td>\n",
              "      <td>2928.0</td>\n",
              "      <td>2959.034632</td>\n",
              "      <td>451</td>\n",
              "      <td>5966</td>\n",
              "    </tr>\n",
              "    <tr>\n",
              "      <th>1</th>\n",
              "      <td>616.5</td>\n",
              "      <td>606.570000</td>\n",
              "      <td>2</td>\n",
              "      <td>2469</td>\n",
              "      <td>3866.0</td>\n",
              "      <td>3978.250000</td>\n",
              "      <td>20</td>\n",
              "      <td>6946</td>\n",
              "    </tr>\n",
              "  </tbody>\n",
              "</table>\n",
              "</div>"
            ],
            "text/plain": [
              "            casual                        registered                        \n",
              "            median         mean min   max     median         mean  min   max\n",
              "workingday                                                                  \n",
              "0           1338.0  1371.134199  54  3410     2928.0  2959.034632  451  5966\n",
              "1            616.5   606.570000   2  2469     3866.0  3978.250000   20  6946"
            ]
          },
          "execution_count": 25,
          "metadata": {},
          "output_type": "execute_result"
        }
      ],
      "source": [
        "day_analysis = day_df.groupby(day_df['workingday'])[['casual', 'registered']].agg(['median', 'mean', 'min', 'max'])\n",
        "day_analysis"
      ]
    },
    {
      "cell_type": "markdown",
      "metadata": {},
      "source": [
        "Terlihat bahwa rata-rata dan nilai tengah penyewa casual lebih besar saat hari libur dan hal tersebut berkebalikan dengan penyewa registered."
      ]
    },
    {
      "cell_type": "markdown",
      "metadata": {},
      "source": [
        "### 5. Analisis Weathersit berdasarkan Penyewa"
      ]
    },
    {
      "cell_type": "code",
      "execution_count": 26,
      "metadata": {},
      "outputs": [
        {
          "data": {
            "text/html": [
              "<div>\n",
              "<style scoped>\n",
              "    .dataframe tbody tr th:only-of-type {\n",
              "        vertical-align: middle;\n",
              "    }\n",
              "\n",
              "    .dataframe tbody tr th {\n",
              "        vertical-align: top;\n",
              "    }\n",
              "\n",
              "    .dataframe thead tr th {\n",
              "        text-align: left;\n",
              "    }\n",
              "\n",
              "    .dataframe thead tr:last-of-type th {\n",
              "        text-align: right;\n",
              "    }\n",
              "</style>\n",
              "<table border=\"1\" class=\"dataframe\">\n",
              "  <thead>\n",
              "    <tr>\n",
              "      <th></th>\n",
              "      <th colspan=\"4\" halign=\"left\">casual</th>\n",
              "      <th colspan=\"4\" halign=\"left\">registered</th>\n",
              "    </tr>\n",
              "    <tr>\n",
              "      <th></th>\n",
              "      <th>median</th>\n",
              "      <th>mean</th>\n",
              "      <th>min</th>\n",
              "      <th>max</th>\n",
              "      <th>median</th>\n",
              "      <th>mean</th>\n",
              "      <th>min</th>\n",
              "      <th>max</th>\n",
              "    </tr>\n",
              "    <tr>\n",
              "      <th>weathersit</th>\n",
              "      <th></th>\n",
              "      <th></th>\n",
              "      <th></th>\n",
              "      <th></th>\n",
              "      <th></th>\n",
              "      <th></th>\n",
              "      <th></th>\n",
              "      <th></th>\n",
              "    </tr>\n",
              "  </thead>\n",
              "  <tbody>\n",
              "    <tr>\n",
              "      <th>1</th>\n",
              "      <td>829.0</td>\n",
              "      <td>964.030238</td>\n",
              "      <td>15</td>\n",
              "      <td>3410</td>\n",
              "      <td>3875.0</td>\n",
              "      <td>3912.755940</td>\n",
              "      <td>416</td>\n",
              "      <td>6946</td>\n",
              "    </tr>\n",
              "    <tr>\n",
              "      <th>2</th>\n",
              "      <td>534.0</td>\n",
              "      <td>687.352227</td>\n",
              "      <td>9</td>\n",
              "      <td>3155</td>\n",
              "      <td>3352.0</td>\n",
              "      <td>3348.510121</td>\n",
              "      <td>491</td>\n",
              "      <td>6844</td>\n",
              "    </tr>\n",
              "    <tr>\n",
              "      <th>3</th>\n",
              "      <td>126.0</td>\n",
              "      <td>185.476190</td>\n",
              "      <td>2</td>\n",
              "      <td>1264</td>\n",
              "      <td>1672.0</td>\n",
              "      <td>1617.809524</td>\n",
              "      <td>20</td>\n",
              "      <td>4324</td>\n",
              "    </tr>\n",
              "  </tbody>\n",
              "</table>\n",
              "</div>"
            ],
            "text/plain": [
              "           casual                       registered                        \n",
              "           median        mean min   max     median         mean  min   max\n",
              "weathersit                                                                \n",
              "1           829.0  964.030238  15  3410     3875.0  3912.755940  416  6946\n",
              "2           534.0  687.352227   9  3155     3352.0  3348.510121  491  6844\n",
              "3           126.0  185.476190   2  1264     1672.0  1617.809524   20  4324"
            ]
          },
          "execution_count": 26,
          "metadata": {},
          "output_type": "execute_result"
        }
      ],
      "source": [
        "weathersit_analysis = day_df.groupby(day_df['weathersit'])[['casual', 'registered']].agg(['median', 'mean', 'min', 'max'])\n",
        "weathersit_analysis"
      ]
    },
    {
      "cell_type": "markdown",
      "metadata": {},
      "source": [
        "Menariknya, tidak ada weathersit 4 di setiap harinya. Kebanyakan pengguna keseluruhan menyewa pada saat weathersit 1."
      ]
    },
    {
      "cell_type": "markdown",
      "metadata": {},
      "source": [
        "### 7. Korelasi Setiap Fitur"
      ]
    },
    {
      "cell_type": "code",
      "execution_count": 27,
      "metadata": {},
      "outputs": [
        {
          "data": {
            "image/png": "[encoded data removed]",
            "text/plain": [
              "<Figure size 1200x800 with 2 Axes>"
            ]
          },
          "metadata": {},
          "output_type": "display_data"
        }
      ],
      "source": [
        "plt.figure(figsize=(12, 8))\n",
        "sns.heatmap(day_df.corr(), annot=True, cmap='coolwarm', fmt=\".2f\")\n",
        "plt.title('Heatmap of Day DataFrame')\n",
        "plt.show()"
      ]
    },
    {
      "cell_type": "markdown",
      "metadata": {},
      "source": [
        "Beberapa hal menarik:\n",
        "- Terlihat bahwa seasons berkorelasi tinggi terhadap month (0.87)\n",
        "Hal ini karena setiap bulan memiliki musimnya sendiri\n",
        "- Terlihat temp & atemp dengan cnt punya korelasi tinggi 0.63, hum dengan weathersit 0.59, dst"
      ]
    },
    {
      "cell_type": "markdown",
      "metadata": {
        "id": "zsyZjqak8DC2"
      },
      "source": [
        "## Visualization & Explanatory Analysis"
      ]
    },
    {
      "cell_type": "markdown",
      "metadata": {
        "id": "HZxOiQ6n8DC2"
      },
      "source": [
        "### Pertanyaan 1: Bagaimana tren total penyewa sepeda (baik casual maupun registered) setiap bulannya pada tahun 2012 pada dataset day.csv?"
      ]
    },
    {
      "cell_type": "code",
      "execution_count": 28,
      "metadata": {
        "id": "1swJUdAD8DC2"
      },
      "outputs": [
        {
          "data": {
            "image/png": "[encoded data removed]",
            "text/plain": [
              "<Figure size 1000x600 with 1 Axes>"
            ]
          },
          "metadata": {},
          "output_type": "display_data"
        }
      ],
      "source": [
        "day_df_2012 = day_df[day_df['dteday'].dt.year == 2012]\n",
        "monthly_trend_2012 = day_df_2012.groupby(day_df_2012['dteday'].dt.month)['cnt'].sum()\n",
        "\n",
        "plt.figure(figsize=(10, 6))\n",
        "plt.plot(monthly_trend_2012.index, monthly_trend_2012.values, marker='o', linestyle='-')\n",
        "plt.xlabel('Bulan')\n",
        "plt.ylabel('Jumlah Penyewa Total')\n",
        "plt.title('Tren Penyewa Total per Bulan (2012)')\n",
        "plt.xticks(range(1, 13), ['Jan', 'Feb', 'Mar', 'Apr', 'Mei', 'Jun', 'Jul', 'Agu', 'Sep', 'Okt', 'Nov', 'Des'])\n",
        "plt.grid(axis='y', linestyle='--', alpha=0.7)\n",
        "plt.show()"
      ]
    },
    {
      "cell_type": "markdown",
      "metadata": {
        "id": "DgHI7CiU8DC2"
      },
      "source": [
        "### Pertanyaan 2: Bagaimana hubungan antara total penyewa sepeda dengan suhu temperatur lingkungan pada dataset day.csv?"
      ]
    },
    {
      "cell_type": "code",
      "execution_count": 29,
      "metadata": {
        "id": "Go0lCsvO8DC2"
      },
      "outputs": [
        {
          "data": {
            "image/png": "[encoded data removed]",
            "text/plain": [
              "<Figure size 1000x600 with 1 Axes>"
            ]
          },
          "metadata": {},
          "output_type": "display_data"
        }
      ],
      "source": [
        "plt.figure(figsize=(10, 6))\n",
        "plt.scatter(day_df['temp'], day_df['cnt'], color='skyblue', alpha=0.6)\n",
        "plt.title('Scatter Plot Total Penyewa vs Temperature')\n",
        "plt.xlabel('Temperature')\n",
        "plt.ylabel('Jumlah Penyewa')\n",
        "plt.grid(True, linestyle='--', alpha=0.5)\n",
        "plt.show()"
      ]
    },
    {
      "cell_type": "markdown",
      "metadata": {},
      "source": [
        "### Pertanyaan 3: Musim apa yang paling banyak memiliki penyewa sepeda pada dataset day.csv?"
      ]
    },
    {
      "cell_type": "code",
      "execution_count": 30,
      "metadata": {},
      "outputs": [
        {
          "data": {
            "text/plain": [
              "<Figure size 1000x600 with 0 Axes>"
            ]
          },
          "metadata": {},
          "output_type": "display_data"
        },
        {
          "data": {
            "image/png": "[encoded data removed]",
            "text/plain": [
              "<Figure size 640x480 with 1 Axes>"
            ]
          },
          "metadata": {},
          "output_type": "display_data"
        }
      ],
      "source": [
        "day_df1 = day_df.copy()\n",
        "day_df1['season'] = day_df1['season'].replace({1: 'Spring', 2: 'Summer', 3: 'Fall', 4: 'Winter'})\n",
        "season_counts = day_df1.groupby('season')[['casual', 'registered']].sum()\n",
        "plt.figure(figsize=(10, 6))\n",
        "season_counts.plot(kind='bar', stacked=True)\n",
        "plt.title('Jumlah Penyewa Casual dan Registered untuk Setiap Musim')\n",
        "plt.xlabel('Musim')\n",
        "plt.ylabel('Jumlah')\n",
        "plt.xticks(rotation=0)\n",
        "plt.grid(axis='y', linestyle='--', alpha=0.5)\n",
        "plt.legend(title='Atribut')\n",
        "plt.ticklabel_format(style='plain', axis='y')\n",
        "plt.show()"
      ]
    },
    {
      "cell_type": "markdown",
      "metadata": {},
      "source": [
        "### Pertanyaan 4: Pada hari apakah masyarakat kebanyakan menyewa sepeda pada dataset day.csv?"
      ]
    },
    {
      "cell_type": "code",
      "execution_count": 31,
      "metadata": {},
      "outputs": [
        {
          "data": {
            "text/plain": [
              "<function matplotlib.pyplot.ticklabel_format(*, axis='both', style='', scilimits=None, useOffset=None, useLocale=None, useMathText=None)>"
            ]
          },
          "execution_count": 31,
          "metadata": {},
          "output_type": "execute_result"
        },
        {
          "data": {
            "text/plain": [
              "<Figure size 1000x600 with 0 Axes>"
            ]
          },
          "metadata": {},
          "output_type": "display_data"
        },
        {
          "data": {
            "image/png": "[encoded data removed]",
            "text/plain": [
              "<Figure size 640x480 with 1 Axes>"
            ]
          },
          "metadata": {},
          "output_type": "display_data"
        }
      ],
      "source": [
        "day_df2 = day_df.copy()\n",
        "day_df2['weekday'] = day_df2['weekday'].replace({0: 'Sun', 1: 'Mon', 2: 'Tue', 3: 'Wed', 4:'Thu', 5:'Fri', 6:'Sat'})\n",
        "counts = day_df2.groupby('weekday')[['casual', 'registered']].sum()\n",
        "plt.figure(figsize=(10, 6))\n",
        "counts.plot(kind='bar', stacked=True)\n",
        "plt.title('Jumlah Penyewa Casual dan Registered untuk Setiap Hari')\n",
        "plt.xlabel('Hari')\n",
        "plt.ylabel('Jumlah')\n",
        "plt.xticks(rotation=0)\n",
        "plt.grid(axis='y', linestyle='--', alpha=0.5)\n",
        "plt.legend(title='Atribut')\n",
        "plt.ticklabel_format"
      ]
    },
    {
      "cell_type": "markdown",
      "metadata": {
        "id": "_WeHlCeX8DC2"
      },
      "source": [
        "## Conclusion"
      ]
    },
    {
      "cell_type": "markdown",
      "metadata": {
        "id": "ZTcyR48Y8DC2"
      },
      "source": [
        "- Conclution pertanyaan 1\n",
        "\n",
        "Kita melihat tren penyewa per bulannya pada tahun 2012 dengan menggunakan Line Plot. kita bisa melihat bahwa pada Bulan September adalah bulan paling tinggi dan setelah itu mengalami penurunan yang signifikan hingga Januari. Pada Januari mulai naik lagi hingga September. Hal ini bisa diindikasikan adanya kemungkinan faktor cuaca, seperti pada bulan Okt-Jan adalah bulan-bulan Winter sehingga banyak orang yang jarang bersepeda.\n",
        "\n",
        "- Conclution pertanyaan 2\n",
        "\n",
        "Kita melihat hubungan antara total penyewa dengan temperatur dengan menggunakna scatter plot. Semakin tinggi temperaturnya semakin berkorelasi positif dengan jumlah penyewa. Mengindikasikan bahwa cuaca yang dingin adanya kecenderungan masyarakat jarang bersepeda.\n",
        "\n",
        "- Conclution pertanyaan 3\n",
        "\n",
        "Dengan menggunakan stacked bar chart, kita bisa melihat jumlah penyewa (casual dan resgistered) di setiap musim. Paling sedikit penyewa ada pada musim Spring dan tertinggi ada pada Fall. Lalu, Banyak penyewa berasal dari registered.\n",
        "\n",
        "- Conclution pertanyaan 4\n",
        "\n",
        "Dengan menggunakna stacked bar chart, kita bisa melihat jumlah penyewa (casual dan resgistered) di setiap harinya. Banyak pengguna casual yang melakukan rental sepeda pada hari libur (mengindikasikan penyewa musiman). Paling rendah adalah hari Minggu."
      ]
    }
  ],
  "metadata": {
    "colab": {
      "provenance": []
    },
    "interpreter": {
      "hash": "212b3cab8d7568f412ed9a72b7e35effa0ea67be15b1e1a8fbc8353fe4ef55b0"
    },
    "kernelspec": {
      "display_name": "Python 3.10.9 ('base')",
      "language": "python",
      "name": "python3"
    },
    "language_info": {
      "codemirror_mode": {
        "name": "ipython",
        "version": 3
      },
      "file_extension": ".py",
      "mimetype": "text/x-python",
      "name": "python",
      "nbconvert_exporter": "python",
      "pygments_lexer": "ipython3",
      "version": "3.10.9"
    },
    "orig_nbformat": 4,
    "vscode": {
      "interpreter": {
        "hash": "972b3bf27e332e87b5379f2791f6ef9dfc79c71018c370b0d7423235e20fe4d7"
      }
    }
  },
  "nbformat": 4,
  "nbformat_minor": 0
}
